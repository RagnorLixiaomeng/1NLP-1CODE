{
 "cells": [
  {
   "cell_type": "code",
   "execution_count": 2,
   "metadata": {},
   "outputs": [],
   "source": [
    "# 1、导入numpy使用np的包名字\n",
    "import numpy as np"
   ]
  },
  {
   "cell_type": "code",
   "execution_count": null,
   "metadata": {},
   "outputs": [],
   "source": [
    "# 2、打印出numpy的版本和配置信息\n",
    "np.__version__\n",
    "np.show_config()"
   ]
  },
  {
   "cell_type": "code",
   "execution_count": null,
   "metadata": {},
   "outputs": [],
   "source": [
    "# 3、创建一个size=10的空向量\n",
    "vec = np.zeros(10)\n",
    "vec.size"
   ]
  },
  {
   "cell_type": "code",
   "execution_count": null,
   "metadata": {},
   "outputs": [],
   "source": [
    "# 4、怎么找到任意数组的内存占用空间\n",
    "Z  = np.zeros((10, 10))\n",
    "print(Z)\n",
    "print(Z.size, \"-\", Z.itemsize)\n",
    "print(\"%d bytes\" % (Z.size * Z.itemsize))"
   ]
  },
  {
   "cell_type": "code",
   "execution_count": null,
   "metadata": {},
   "outputs": [],
   "source": [
    "# 5、怎么在命令行模式下获取到numpy的add方法的帮助文档\n",
    "# !python -c \"import numpy; numpy.info(numpy.add)\" # jupyter中\n",
    "\n",
    "import numpy as np # 代码中\n",
    "np.add?\n"
   ]
  },
  {
   "cell_type": "code",
   "execution_count": null,
   "metadata": {},
   "outputs": [],
   "source": [
    "# 6、创建一个size=10的空向量但是第5个元素的值为1\n",
    "Z = np.zeros(10)\n",
    "Z[4] = 1\n",
    "print(Z)"
   ]
  },
  {
   "cell_type": "code",
   "execution_count": null,
   "metadata": {},
   "outputs": [],
   "source": [
    "# 7、创建一个值是10-49的向量\n",
    "Z = np.arange(10, 50) # 还是取头不取尾\n",
    "print(Z)"
   ]
  },
  {
   "cell_type": "code",
   "execution_count": null,
   "metadata": {},
   "outputs": [],
   "source": [
    "# 8、翻转一个向量（头变为尾）\n",
    "Z = np.arange(10)\n",
    "Z = Z[::-1]\n",
    "print(Z)"
   ]
  },
  {
   "cell_type": "code",
   "execution_count": null,
   "metadata": {},
   "outputs": [],
   "source": [
    "# 9、创建一个3*3的矩阵，其值从0-8\n",
    "Z = np.arange(9).reshape(3, 3)\n",
    "print(Z)"
   ]
  },
  {
   "cell_type": "code",
   "execution_count": null,
   "metadata": {},
   "outputs": [],
   "source": [
    "# 10、从[1,2,0,0,4,0] 1维数组（向量）中找到所有非零的元素\n",
    "Z = np.nonzero([1, 2, 0, 0, 4, 0])\n",
    "print(Z)"
   ]
  },
  {
   "cell_type": "code",
   "execution_count": null,
   "metadata": {},
   "outputs": [],
   "source": [
    "# 11、创建一个3 * 3 的方阵\n",
    "Z = np.eye(3)\n",
    "print(Z)"
   ]
  },
  {
   "cell_type": "code",
   "execution_count": null,
   "metadata": {},
   "outputs": [],
   "source": [
    "# 12、创建一个3 * 3 * 3的矩阵，其值是随机的\n",
    "Z = np.random.random((3, 3, 3))\n",
    "print(Z)"
   ]
  },
  {
   "cell_type": "code",
   "execution_count": null,
   "metadata": {},
   "outputs": [],
   "source": [
    "# 13、创建一个 10 * 10 的矩阵，其值随机，找到里面的最小值跟最大值\n",
    "Z = np.random.random((10, 10))\n",
    "Zmax, Zmin = Z.max(), Z.min()\n",
    "print(Zmax, \"-\", Zmin)"
   ]
  },
  {
   "cell_type": "code",
   "execution_count": null,
   "metadata": {},
   "outputs": [],
   "source": [
    "# 14、创建一个size为30的随机值向量，找到其平均值\n",
    "Z = np.random.random(30)\n",
    "Zmean = Z.mean()\n",
    "print(Zmean)"
   ]
  },
  {
   "cell_type": "code",
   "execution_count": null,
   "metadata": {},
   "outputs": [],
   "source": [
    "# 15、创建一个2位数组，外层都是1，内部都是0\n",
    "Z = np.ones((10, 10))\n",
    "print(Z)\n",
    "Z[1:-1, 1:-1] = 0 # 索引从0开始 + 取头不取尾 = 第2行到倒数第二行 * 第2列到倒数第二列 的挖心效果\n",
    "print(Z)"
   ]
  },
  {
   "cell_type": "code",
   "execution_count": null,
   "metadata": {},
   "outputs": [],
   "source": [
    "# 16、穿一层衣服，怎么用0包裹一个即存的array数组？\n",
    "\n",
    "Z = np.ones((5, 5))\n",
    "Z = np.pad(Z, pad_width=1, mode='constant', constant_values=0)\n",
    "print(Z)"
   ]
  },
  {
   "cell_type": "code",
   "execution_count": null,
   "metadata": {},
   "outputs": [],
   "source": [
    "# 17、下面的表达式的结果是什么\n",
    "\n",
    "print(0 * np.nan)\n",
    "print(np.nan == np.nan) # IEEE 754中规定nan谁都不等于包括它自己，而且无效不参与比较\n",
    "print(np.inf > np.nan)\n",
    "print(np.nan - np.nan)\n",
    "print(np.nan in set([np.nan]))\n",
    "print(0.3 == 3 * 0.1)"
   ]
  },
  {
   "cell_type": "code",
   "execution_count": null,
   "metadata": {},
   "outputs": [],
   "source": [
    "# 18、创建一个5 * 5的矩阵,偏离主对角线左下平移一个单位，其值为1234\n",
    "\n",
    "Z = np.diag(1+np.arange(4),k=-1) # 这个k就是沿着主对角线的法线平移量跟方向\n",
    "print(Z)"
   ]
  },
  {
   "cell_type": "code",
   "execution_count": null,
   "metadata": {},
   "outputs": [],
   "source": [
    "# 19、创建一个8 * 8 的矩阵，用棋盘格进行填充（纸笔画就懂了）\n",
    "\n",
    "Z = np.zeros((8, 8), dtype=int)\n",
    "Z[1::2, ::2] = 1 # 第 1 3 5 7 索引行  0 2 4 6索引列\n",
    "Z[::2, 1::2] = 1\n",
    "print(Z)"
   ]
  },
  {
   "cell_type": "code",
   "execution_count": null,
   "metadata": {},
   "outputs": [],
   "source": [
    "# 20、考虑一个 (6,7,8) 形数组，第 100 个元素的索引 (x,y,z) 是多少？\n",
    "\n",
    "print(np.unravel_index(99,(6,7,8)))"
   ]
  },
  {
   "cell_type": "code",
   "execution_count": null,
   "metadata": {},
   "outputs": [],
   "source": [
    "# 21、使用np的tile函数来创建一个8 * 8的类棋盘矩阵\n",
    "\n",
    "print(np.tile(np.array([[0, 1], [1, 0]]), (4, 4)))"
   ]
  },
  {
   "cell_type": "code",
   "execution_count": null,
   "metadata": {},
   "outputs": [],
   "source": [
    "# 22、标准化（均值为0，标准差为1）一个 5 * 5 的随机矩阵\n",
    "\n",
    "Z = np.random.random((5, 5))\n",
    "print(\"Z:{} \\n 均值:{} \\n 标准差:{}\".format(Z, np.mean(Z), np.std(Z)))\n",
    "Z = (Z - np.mean(Z)) / (np.std(Z))\n",
    "print(\"Z:{} \\n 均值:{} \\n 标准差:{}\".format(Z, np.mean(Z), np.std(Z)))"
   ]
  },
  {
   "cell_type": "code",
   "execution_count": null,
   "metadata": {},
   "outputs": [],
   "source": [
    "# 23、创建一个自定义的dtype，使用4个无符号字节码描述RGBA\n",
    "\n",
    "color = np.dtype([(\"r\", np.ubyte),\n",
    "                  (\"g\", np.ubyte),\n",
    "                  (\"b\", np.ubyte),\n",
    "                  (\"a\", np.ubyte)])\n",
    "\n",
    "# 使用自定义 dtype 创建一个数组\n",
    "colors = np.array([(255, 0, 0, 255),    # 红色，不透明\n",
    "                   (0, 255, 0, 255),    # 绿色，不透明\n",
    "                   (0, 0, 255, 128)],   # 蓝色，半透明\n",
    "                  dtype=color)\n",
    "\n",
    "print(colors)"
   ]
  },
  {
   "cell_type": "code",
   "execution_count": null,
   "metadata": {},
   "outputs": [],
   "source": [
    "# 24、5*3 矩阵乘以一个 3 * 2的矩阵怎么计算？\n",
    "\n",
    "Z = np.dot(np.ones((5, 3)), np.ones((3, 2)))\n",
    "print(Z)\n",
    "\n",
    "# Python3.5及以上可以用\n",
    "Z = np.ones((5, 3)) @ np.ones((3, 2))\n",
    "print(Z)"
   ]
  },
  {
   "cell_type": "code",
   "execution_count": null,
   "metadata": {},
   "outputs": [],
   "source": [
    "# 25、给定一个一维数组，把所有介于 3 和 8 之间的元素都取反。\n",
    "Z = np.arange(11)\n",
    "Z[(3 < Z) & (Z < 8)] *= -1\n",
    "print(Z)"
   ]
  },
  {
   "cell_type": "code",
   "execution_count": null,
   "metadata": {},
   "outputs": [],
   "source": [
    "# 26、下面的执行结果是多少\n",
    "\n",
    "print(sum(range(5), -1)) # 0 + 1 + 2 + 3 + 4 + 起始值（这里是-1） = 9"
   ]
  },
  {
   "cell_type": "code",
   "execution_count": null,
   "metadata": {},
   "outputs": [],
   "source": [
    "# 27、考虑一个int型的向量Z，下列哪个表达式是合法的？\n",
    "\n",
    "\n",
    "Z**Z\n",
    "2 << Z >> 2\n",
    "Z <- Z\n",
    "1j*Z\n",
    "Z/1/1\n",
    "Z<Z>Z\n",
    "\n",
    "\n",
    "# 用print试试\n",
    "Z = np.array([1, 2, 3], dtype=int)\n",
    "print(Z)\n",
    "print(Z ** Z)\n"
   ]
  },
  {
   "cell_type": "code",
   "execution_count": null,
   "metadata": {},
   "outputs": [],
   "source": [
    "# 28、下面运算表达式的结果是多少？\n",
    "\n",
    "np.array(0) / np.array(0)\n",
    "np.array(0) // np.array(0)\n",
    "np.array([np.nan]).astype(int).astype(float)\n",
    "\n",
    "# 运算下\n",
    "print(np.array(0) / np.array(0)) # nan 因为任何数除以 0 都是未定义的。\n",
    "print(np.array(0) // np.array(0)) # 0 在 NumPy 中，整除未定义的情况下返回 0，并且会生成一个警告\n",
    "print(np.array([np.nan]).astype(int).astype(float)) # NaN 转换为整数会导致不可预期的结果，通常是系统的最小整数值，然后再次转换为浮点数。"
   ]
  },
  {
   "cell_type": "code",
   "execution_count": null,
   "metadata": {},
   "outputs": [],
   "source": [
    "# 29、如何对浮点数进行四舍五入？\n",
    "\n",
    "Z = np.random.uniform(-10,+10,10)\n",
    "print(Z)\n",
    "print(np.copysign(np.ceil(np.abs(Z)), Z))  # 先对每个数取绝对值，再向上取整，最后恢复原来的正负号。\n",
    "\n",
    "# More readable but less efficient\n",
    "print(np.where(Z>0, np.ceil(Z), np.floor(Z))) # 对于正数进行向上取整，对于负数进行向下取整。\n",
    "\n",
    "# 真正的标准四舍五入\n",
    "print(np.round(Z))\n"
   ]
  },
  {
   "cell_type": "code",
   "execution_count": null,
   "metadata": {},
   "outputs": [],
   "source": [
    "# 30、怎么找到两个数组中相同的value值？\n",
    "Z1 = np.random.randint(0, 10, 10)\n",
    "Z2 = np.random.randint(0, 10, 10)\n",
    "\n",
    "print(Z1)\n",
    "print(Z2)\n",
    "print(np.intersect1d(Z1, Z2))"
   ]
  },
  {
   "cell_type": "code",
   "execution_count": null,
   "metadata": {},
   "outputs": [],
   "source": [
    "# 31、怎么忽略所有的enumpy警告（不建议）？\n",
    "\n",
    "# Suicide mode on\n",
    "defaults = np.seterr(all=\"ignore\")\n",
    "Z = np.ones(1) / 0\n",
    "\n",
    "# Back to sanity\n",
    "_ = np.seterr(**defaults)\n",
    "\n",
    "# Equivalently with a context manager\n",
    "with np.errstate(all=\"ignore\"):\n",
    "    np.arange(3) / 0"
   ]
  },
  {
   "cell_type": "code",
   "execution_count": null,
   "metadata": {},
   "outputs": [],
   "source": [
    "# 32、下面的表达式为true吗\n",
    "np.sqrt(-1) == np.emath.sqrt(-1) # np.sqrt(-1)返回 nan，因为负数没有实数平方根。 VS np.emath.sqrt(-1) 返回 1j，这是负数在复数域中的平方根。"
   ]
  },
  {
   "cell_type": "code",
   "execution_count": null,
   "metadata": {},
   "outputs": [],
   "source": [
    "# 33、在numpy中怎么获取到昨天，今天和明天？\n",
    "yesterday = np.datetime64('today') - np.timedelta64(1)\n",
    "today = np.datetime64('today') \n",
    "tomorrow = np.datetime64('today') + np.timedelta64(1)\n",
    "\n",
    "yesterday, today, tomorrow"
   ]
  },
  {
   "cell_type": "code",
   "execution_count": null,
   "metadata": {},
   "outputs": [],
   "source": [
    "# 34、如何获取与 2016 年 7 月相对应的所有日期？\n",
    "Z = np.arange('2016-07', '2016-08', dtype='datetime64[D]')\n",
    "print(Z)"
   ]
  },
  {
   "cell_type": "code",
   "execution_count": null,
   "metadata": {},
   "outputs": [],
   "source": [
    "# 35、如何计算 ((A+B)*(-A/2)) in-place（无需复制）\n",
    "\n",
    "# in-place的意思就是运算过程中的结果会直接存储在原始数组中，这样的话节省内存、提高计算效率（因为节省了内存拷贝的时间）\n",
    "A = np.ones(3) * 1\n",
    "B = np.ones(3) * 2\n",
    "\n",
    "np.add(A, B, out=B)\n",
    "np.divide(A, 2, out=A)\n",
    "np.negative(A, out=A)\n",
    "np.multiply(A, B, out=A)\n",
    "A"
   ]
  },
  {
   "cell_type": "code",
   "execution_count": null,
   "metadata": {},
   "outputs": [],
   "source": [
    "# 36、使用 4 种不同方法提取正数随机数组的整数部分\n",
    "Z = np.random.uniform(0, 10, 10) # uniform指的是均匀分布\n",
    "print(Z)\n",
    "\n",
    "print(Z - Z % 1) # %就是取模，取模就是取余数比如2.34 % 2 = 0.34 \n",
    "print(Z // 1) # 地板除法：总是向小的方向取整比如7.9 // 1 = 7\n",
    "print(np.floor(Z))\n",
    "print(Z.astype(int))\n",
    "print(np.trunc(Z))"
   ]
  },
  {
   "cell_type": "code",
   "execution_count": null,
   "metadata": {},
   "outputs": [],
   "source": [
    "# 37、创建一个 5 * 5的矩阵其行的值从0-4\n",
    "\n",
    "Z = np.zeros((5, 5))\n",
    "Z += np.arange(5)\n",
    "print(Z)\n",
    "\n",
    "\n",
    "# 不用numpy的广播机制\n",
    "Z = np.tile(np.arange(0, 5), (5, 1))\n",
    "print(Z)"
   ]
  },
  {
   "cell_type": "code",
   "execution_count": null,
   "metadata": {},
   "outputs": [],
   "source": [
    "# 38、考虑使用一个生成器生成10个整型数字，使用这个生成器构建一个数组\n",
    "\n",
    "def generate():\n",
    "    for x in range(10):\n",
    "        yield x\n",
    "\n",
    "Z = np.fromiter(generate(), dtype=int, count=-1) # count 参数指定从可迭代对象中提取多少个元素， -1是全部；正数是最多几个\n",
    "print(Z)\n"
   ]
  },
  {
   "cell_type": "code",
   "execution_count": null,
   "metadata": {},
   "outputs": [],
   "source": [
    "# 39、创建一个大小为 10 的向量，其元素值在 0 和 1 之间，但不包括 0 和 1。\n",
    "\n",
    "Z = np.linspace(0, 1, 11, endpoint=False)[1:] # 生成从 0 到 1（不包括 1）的 11 个均匀间隔的数，结果是 [0, 0.1, 0.2, ..., 0.9] ； [1:] 表示去掉第一个元素 0\n",
    "print(Z)"
   ]
  },
  {
   "cell_type": "code",
   "execution_count": null,
   "metadata": {},
   "outputs": [],
   "source": [
    "# 40、创建一个随机值组成的向量其size等于10，然后对它进行排序\n",
    "\n",
    "Z = np.random.random(10)\n",
    "Z.sort()\n",
    "print(Z)"
   ]
  },
  {
   "cell_type": "code",
   "execution_count": null,
   "metadata": {},
   "outputs": [],
   "source": [
    "# 41、怎么对一个小数组求和，比np.sum要快的方法？\n",
    "Z = np.arange(10)\n",
    "print(Z)\n",
    "\n",
    "res1 = np.add.reduce(Z) \n",
    "print(res1)\n",
    "\n",
    "# 这里看起来同np.sum 不过reduce的底层实现更高效。但是 如果只是求和，np.sum 更直观和简洁。如果你想要对其他操作进行归约，使用 ufunc.reduce 会更灵活。\n",
    "res2 = np.multiply.reduce(Z) # 用于对数组中的元素做乘法归约\n",
    "print(res2)\n"
   ]
  },
  {
   "cell_type": "code",
   "execution_count": null,
   "metadata": {},
   "outputs": [],
   "source": [
    "# 42、检查两个数组A和B是否equal\n",
    "A = np.random.randint(0, 2 , 5)\n",
    "B = np.random.randint(0, 2, 5)\n",
    "\n",
    "almost_equal = np.allclose(A, B) # 用于比较两个数组的数值是否接近，考虑浮点数误差，允许一些容差。\n",
    "print(almost_equal)\n",
    "\n",
    "equal = np.array_equal(A, B) #  用于比较两个数组的形状和所有元素是否完全一致，不允许任何误差。\n",
    "print(equal)\n"
   ]
  },
  {
   "cell_type": "code",
   "execution_count": null,
   "metadata": {},
   "outputs": [],
   "source": [
    "# 43、让一个数组只读\n",
    "\n",
    "Z = np.zeros(10)\n",
    "Z.flags.writeable = False\n",
    "Z[0] = 1 # ValueError: assignment destination is read-only"
   ]
  },
  {
   "cell_type": "code",
   "execution_count": null,
   "metadata": {},
   "outputs": [],
   "source": [
    "# 44、考虑一个代表直角坐标的随机 10x2 矩阵，将其转换为极坐标\n",
    "Z = np.random.random((10, 2))\n",
    "X, Y = Z[:, 0], Z[:, 1] # 注意这个 , 第一列 第二列啊\n",
    "\n",
    "# print(Z)\n",
    "# print(X)\n",
    "# print(Y)\n",
    "\n",
    "R = np.sqrt(X**2+Y**2)\n",
    "T = np.arctan2(Y,X)\n",
    "print(R)\n",
    "print(T)\n",
    "\n"
   ]
  },
  {
   "cell_type": "markdown",
   "metadata": {},
   "source": [
    "笛卡尔坐标系到极坐标系\n",
    "![](./attachements/直角坐标系转到极坐标.png)"
   ]
  },
  {
   "cell_type": "code",
   "execution_count": null,
   "metadata": {},
   "outputs": [],
   "source": [
    "# 45、创建一个size为10的向量。并且把其中的最大值替换为0\n",
    "\n",
    "Z = np.random.random(10)\n",
    "Z[Z.argmax()] = 0\n",
    "print(Z)"
   ]
  },
  {
   "cell_type": "code",
   "execution_count": null,
   "metadata": {},
   "outputs": [],
   "source": [
    "# 46、创建一个结构数组，其中的 `x` 和 `y` 坐标覆盖 [0,1]x[0,1] 区域: 坐标数据\n",
    "\n",
    "Z = np.zeros((5, 5), [('x', float), ('y', float)])\n",
    "Z['x'], Z['y'] = np.meshgrid(np.linspace(0, 1, 5), np.linspace(0, 1, 5))\n",
    "\n",
    "print(Z)\n",
    "\n"
   ]
  },
  {
   "cell_type": "code",
   "execution_count": null,
   "metadata": {},
   "outputs": [],
   "source": [
    "# 47、给定两个数组，X 和 Y，构造柯西矩阵 C，其元素定义为 C (Cij =1/(xi - yj))。\n",
    "\n",
    "X = np.arange(8)\n",
    "Y = X + 0.5\n",
    "C = 1 / np.subtract.outer(X, Y)\n",
    "print(np.linalg.det(C))"
   ]
  },
  {
   "cell_type": "code",
   "execution_count": null,
   "metadata": {},
   "outputs": [],
   "source": [
    "# 48、打印每种 numpy 标量类型的最小和最大可表示值。\n",
    "\n",
    "for dtype in [np.int8, np.int32, np.int64]:\n",
    "   print(np.iinfo(dtype).min)\n",
    "   print(np.iinfo(dtype).max)\n",
    "for dtype in [np.float32, np.float64]:\n",
    "   print(np.finfo(dtype).min)\n",
    "   print(np.finfo(dtype).max)\n",
    "   print(np.finfo(dtype).eps)\n"
   ]
  },
  {
   "cell_type": "code",
   "execution_count": 3,
   "metadata": {},
   "outputs": [
    {
     "name": "stdout",
     "output_type": "stream",
     "text": [
      "[[0. 0. 0. ... 0. 0. 0.]\n",
      " [0. 0. 0. ... 0. 0. 0.]\n",
      " [0. 0. 0. ... 0. 0. 0.]\n",
      " ...\n",
      " [0. 0. 0. ... 0. 0. 0.]\n",
      " [0. 0. 0. ... 0. 0. 0.]\n",
      " [0. 0. 0. ... 0. 0. 0.]]\n"
     ]
    }
   ],
   "source": [
    "# 49、怎么把一个数组中的所有元素值都打印出来？\n",
    "\n",
    "np.set_printoptions(threshold=float(\"inf\")) # 因为numpy默认会中间的都 .. 这样不是好看吗，你想看全就这样设置\n",
    "Z = np.zeros((40, 40))\n",
    "print(Z)"
   ]
  },
  {
   "cell_type": "code",
   "execution_count": 6,
   "metadata": {},
   "outputs": [
    {
     "name": "stdout",
     "output_type": "stream",
     "text": [
      "65\n"
     ]
    }
   ],
   "source": [
    "# 50、给定一个值，怎么找到一个向量中的最接近值\n",
    "\n",
    "Z = np.arange(100)\n",
    "v = np.random.uniform(0, 100)\n",
    "\n",
    "index = (np.abs(Z - v)).argmin() # 可以理解为欧式距离最小的算法\n",
    "print(Z[index])"
   ]
  },
  {
   "cell_type": "code",
   "execution_count": 7,
   "metadata": {},
   "outputs": [
    {
     "name": "stdout",
     "output_type": "stream",
     "text": [
      "[((0., 0.), (0., 0., 0.)) ((0., 0.), (0., 0., 0.))\n",
      " ((0., 0.), (0., 0., 0.)) ((0., 0.), (0., 0., 0.))\n",
      " ((0., 0.), (0., 0., 0.)) ((0., 0.), (0., 0., 0.))\n",
      " ((0., 0.), (0., 0., 0.)) ((0., 0.), (0., 0., 0.))\n",
      " ((0., 0.), (0., 0., 0.)) ((0., 0.), (0., 0., 0.))]\n"
     ]
    },
    {
     "name": "stderr",
     "output_type": "stream",
     "text": [
      "/var/folders/pb/3dngzxtd7qg8fckyfxmqp5s40000gn/T/ipykernel_51358/1656856968.py:3: FutureWarning: Passing (type, 1) or '1type' as a synonym of type is deprecated; in a future version of numpy, it will be understood as (type, (1,)) / '(1,)type'.\n",
      "  Z = np.zeros(10, [('position', [('x', float, 1), ('y', float, 1)]), ('color', [('r', float, 1), ('g', float, 1), ('b', float, 1)])])\n"
     ]
    }
   ],
   "source": [
    "# 51、创建一个结构化的数组，该数组对象包含一个位置（x, y）跟一个颜色 （r, g, b）\n",
    "\n",
    "Z = np.zeros(10, [('position', [('x', float, 1), ('y', float, 1)]), ('color', [('r', float, 1), ('g', float, 1), ('b', float, 1)])])\n",
    "print(Z)"
   ]
  },
  {
   "cell_type": "code",
   "execution_count": 8,
   "metadata": {},
   "outputs": [
    {
     "name": "stdout",
     "output_type": "stream",
     "text": [
      "[[0.         0.23404341 1.01587164 0.51841563 0.56106774 0.58423472\n",
      "  0.60410398 0.74234384 0.46671147 0.91783708]\n",
      " [0.23404341 0.         0.7999872  0.3039784  0.37527788 0.46797198\n",
      "  0.46328282 0.51698006 0.27194614 0.68484751]\n",
      " [1.01587164 0.7999872  0.         0.68408265 0.77822617 0.5843205\n",
      "  0.52084957 0.5641881  0.75814085 0.27546214]\n",
      " [0.51841563 0.3039784  0.68408265 0.         0.11785327 0.61403969\n",
      "  0.57653074 0.22973618 0.0783276  0.48120095]\n",
      " [0.56106774 0.37527788 0.77822617 0.11785327 0.         0.72923052\n",
      "  0.69342659 0.25863764 0.10376015 0.55193045]\n",
      " [0.58423472 0.46797198 0.5843205  0.61403969 0.72923052 0.\n",
      "  0.06654775 0.70260466 0.64105873 0.65163186]\n",
      " [0.60410398 0.46328282 0.52084957 0.57653074 0.69342659 0.06654775\n",
      "  0.         0.64886661 0.61030435 0.58590109]\n",
      " [0.74234384 0.51698006 0.5641881  0.22973618 0.25863764 0.70260466\n",
      "  0.64886661 0.         0.30020943 0.30861352]\n",
      " [0.46671147 0.27194614 0.75814085 0.0783276  0.10376015 0.64105873\n",
      "  0.61030435 0.30020943 0.         0.55950971]\n",
      " [0.91783708 0.68484751 0.27546214 0.48120095 0.55193045 0.65163186\n",
      "  0.58590109 0.30861352 0.55950971 0.        ]]\n",
      "[[0.         0.57019472 0.38593684 0.38305404 0.29838248 0.28857415\n",
      "  0.46311417 0.52647694 0.40746556 0.13140341]\n",
      " [0.57019472 0.         0.46565545 0.48727842 0.29237961 0.85676505\n",
      "  0.54892918 0.37704115 0.2306473  0.60357697]\n",
      " [0.38593684 0.46565545 0.         0.02240511 0.24407315 0.62217642\n",
      "  0.72664846 0.1796788  0.23756094 0.30572782]\n",
      " [0.38305404 0.48727842 0.02240511 0.         0.25948751 0.61179677\n",
      "  0.73654006 0.19850354 0.25854558 0.29641926]\n",
      " [0.29838248 0.29237961 0.24407315 0.25948751 0.         0.58594871\n",
      "  0.49692292 0.28526344 0.11249273 0.3119151 ]\n",
      " [0.28857415 0.85676505 0.62217642 0.61179677 0.58594871 0.\n",
      "  0.6186209  0.78678732 0.69279471 0.31683049]\n",
      " [0.46311417 0.54892918 0.72664846 0.73654006 0.49692292 0.6186209\n",
      "  0.         0.77626516 0.57670073 0.58925646]\n",
      " [0.52647694 0.37704115 0.1796788  0.19850354 0.28526344 0.78678732\n",
      "  0.77626516 0.         0.20294752 0.47120209]\n",
      " [0.40746556 0.2306473  0.23756094 0.25854558 0.11249273 0.69279471\n",
      "  0.57670073 0.20294752 0.         0.40330291]\n",
      " [0.13140341 0.60357697 0.30572782 0.29641926 0.3119151  0.31683049\n",
      "  0.58925646 0.47120209 0.40330291 0.        ]]\n"
     ]
    }
   ],
   "source": [
    "# 52、考虑一个坐标形状为 (100,2) 的随机矢量，找出点与点之间的距离\n",
    "\n",
    "Z = np.random.random((10,2))\n",
    "X,Y = np.atleast_2d(Z[:,0], Z[:,1])\n",
    "D = np.sqrt( (X-X.T)**2 + (Y-Y.T)**2)\n",
    "print(D)\n",
    "\n",
    "# Much faster with scipy\n",
    "import scipy\n",
    "import scipy.spatial\n",
    "\n",
    "Z = np.random.random((10,2))\n",
    "D = scipy.spatial.distance.cdist(Z,Z)\n",
    "print(D)"
   ]
  },
  {
   "cell_type": "code",
   "execution_count": 15,
   "metadata": {},
   "outputs": [
    {
     "name": "stdout",
     "output_type": "stream",
     "text": [
      "[83.80721  78.20614  77.68958   8.236239 18.335766 53.685535 61.56432\n",
      " 88.99905  55.798237 10.671986]\n",
      "[83 78 77  8 18 53 61 88 55 10]\n",
      "[47 10  0 78  0 74 25 83 70 48]\n"
     ]
    }
   ],
   "source": [
    "# 53、怎么内联式的（in-place）把一个float32的数组转为int32\n",
    "\n",
    "Z = (np.random.rand(10)*100).astype(np.float32)\n",
    "print(Z)\n",
    "Y = Z.view(np.int32) # Y = Z.view(np.int32) 这部分并不是将 Z 转换为 int32，而是以 int32 视角来解释 Z 的内存。\n",
    "\n",
    "Y[:] = Z\n",
    "print(Y)\n",
    "\n",
    "\n",
    "# 更清晰合理的解法\n",
    "Z = (np.random.rand(10) * 100).astype(np.float32)\n",
    "Z = Z.astype(np.int32, copy=False)\n",
    "print(Z)\n"
   ]
  },
  {
   "cell_type": "code",
   "execution_count": 17,
   "metadata": {},
   "outputs": [
    {
     "name": "stdout",
     "output_type": "stream",
     "text": [
      "[[ 1  2  3  4  5]\n",
      " [ 6 -1 -1  7  8]\n",
      " [-1 -1  9 10 11]]\n"
     ]
    }
   ],
   "source": [
    "# 54、怎么从下面的file中读取数组\n",
    "# 1, 2, 3, 4, 5\n",
    "# 6,  ,  , 7, 8\n",
    "#  ,  , 9,10,11\n",
    "\n",
    "\n",
    "from io import StringIO\n",
    "\n",
    "# Fack file\n",
    "s = StringIO('''1, 2, 3, 4, 5\n",
    "\n",
    "                6,  ,  , 7, 8\n",
    "\n",
    "                 ,  , 9,10,11\n",
    "''')\n",
    "\n",
    "Z = np.genfromtxt(s, delimiter=\",\", dtype=int)\n",
    "print(Z)"
   ]
  },
  {
   "cell_type": "code",
   "execution_count": 22,
   "metadata": {},
   "outputs": [
    {
     "name": "stdout",
     "output_type": "stream",
     "text": [
      "(0, 0) 0\n",
      "(0, 1) 1\n",
      "(0, 2) 2\n",
      "(1, 0) 3\n",
      "(1, 1) 4\n",
      "(1, 2) 5\n",
      "(2, 0) 6\n",
      "(2, 1) 7\n",
      "(2, 2) 8\n",
      "(0, 0) 0\n",
      "(0, 1) 1\n",
      "(0, 2) 2\n",
      "(1, 0) 3\n",
      "(1, 1) 4\n",
      "(1, 2) 5\n",
      "(2, 0) 6\n",
      "(2, 1) 7\n",
      "(2, 2) 8\n"
     ]
    }
   ],
   "source": [
    "# 55、\"numpy 数组中等价于 `enumerate` 的函数是什么？\" 其实就是想要位置加元素值\n",
    "\n",
    "\n",
    "Z = np.arange(9).reshape(3,3)\n",
    "\n",
    "for index, value in np.ndenumerate(Z):\n",
    "    print(index, value)\n",
    "\n",
    "for index in np.ndindex(Z.shape):\n",
    "    print(index, Z[index])"
   ]
  },
  {
   "cell_type": "code",
   "execution_count": 23,
   "metadata": {},
   "outputs": [
    {
     "name": "stdout",
     "output_type": "stream",
     "text": [
      "[[0.36787944 0.44822088 0.51979489 0.57375342 0.60279818 0.60279818\n",
      "  0.57375342 0.51979489 0.44822088 0.36787944]\n",
      " [0.44822088 0.54610814 0.63331324 0.69905581 0.73444367 0.73444367\n",
      "  0.69905581 0.63331324 0.54610814 0.44822088]\n",
      " [0.51979489 0.63331324 0.73444367 0.81068432 0.85172308 0.85172308\n",
      "  0.81068432 0.73444367 0.63331324 0.51979489]\n",
      " [0.57375342 0.69905581 0.81068432 0.89483932 0.9401382  0.9401382\n",
      "  0.89483932 0.81068432 0.69905581 0.57375342]\n",
      " [0.60279818 0.73444367 0.85172308 0.9401382  0.98773022 0.98773022\n",
      "  0.9401382  0.85172308 0.73444367 0.60279818]\n",
      " [0.60279818 0.73444367 0.85172308 0.9401382  0.98773022 0.98773022\n",
      "  0.9401382  0.85172308 0.73444367 0.60279818]\n",
      " [0.57375342 0.69905581 0.81068432 0.89483932 0.9401382  0.9401382\n",
      "  0.89483932 0.81068432 0.69905581 0.57375342]\n",
      " [0.51979489 0.63331324 0.73444367 0.81068432 0.85172308 0.85172308\n",
      "  0.81068432 0.73444367 0.63331324 0.51979489]\n",
      " [0.44822088 0.54610814 0.63331324 0.69905581 0.73444367 0.73444367\n",
      "  0.69905581 0.63331324 0.54610814 0.44822088]\n",
      " [0.36787944 0.44822088 0.51979489 0.57375342 0.60279818 0.60279818\n",
      "  0.57375342 0.51979489 0.44822088 0.36787944]]\n"
     ]
    },
    {
     "data": {
      "image/png": "[encoded data removed]",
      "text/plain": [
       "<Figure size 640x480 with 1 Axes>"
      ]
     },
     "metadata": {},
     "output_type": "display_data"
    }
   ],
   "source": [
    "# 56、生成一个2维的高斯分布数组\n",
    "\n",
    "X, Y = np.meshgrid(np.linspace(-1,1,10), np.linspace(-1,1,10))\n",
    "D = np.sqrt(X*X+Y*Y)\n",
    "sigma, mu = 1.0, 0.0\n",
    "G = np.exp(-( (D-mu)**2 / ( 2.0 * sigma**2 ) ) )\n",
    "print(G)\n",
    "\n",
    "\n",
    "import matplotlib.pyplot as plt\n",
    "from mpl_toolkits.mplot3d import Axes3D\n",
    "\n",
    "fig = plt.figure()\n",
    "ax = fig.add_subplot(111, projection='3d')\n",
    "ax.plot_surface(X, Y, G, cmap='viridis')\n",
    "\n",
    "plt.show()\n"
   ]
  },
  {
   "cell_type": "code",
   "execution_count": 24,
   "metadata": {},
   "outputs": [
    {
     "name": "stdout",
     "output_type": "stream",
     "text": [
      "[[0. 0. 0. 0. 0. 0. 0. 0. 0. 0.]\n",
      " [0. 0. 0. 0. 0. 0. 0. 0. 0. 0.]\n",
      " [0. 0. 0. 0. 0. 0. 0. 0. 0. 0.]\n",
      " [0. 0. 1. 0. 0. 0. 0. 0. 0. 0.]\n",
      " [0. 0. 0. 0. 0. 0. 0. 0. 0. 0.]\n",
      " [0. 1. 0. 0. 0. 0. 0. 0. 0. 0.]\n",
      " [0. 0. 0. 0. 0. 1. 0. 0. 0. 0.]\n",
      " [0. 0. 0. 0. 0. 0. 0. 0. 0. 0.]\n",
      " [0. 0. 0. 0. 0. 0. 0. 0. 0. 0.]\n",
      " [0. 0. 0. 0. 0. 0. 0. 0. 0. 0.]]\n"
     ]
    }
   ],
   "source": [
    "# 57、怎么在一个2维数组中随机替换p个元素？\n",
    "\n",
    "n = 10\n",
    "p = 3\n",
    "Z = np.zeros((n , n))\n",
    "\n",
    "np.put(Z, np.random.choice(range(n*n), p, replace=False), 1) # 怕你误会replace=False：表示选择时不允许重复，确保每个索引只会被选中一次。\n",
    "print(Z)"
   ]
  },
  {
   "cell_type": "code",
   "execution_count": 28,
   "metadata": {},
   "outputs": [
    {
     "name": "stdout",
     "output_type": "stream",
     "text": [
      "[[0.74281766 0.1109726  0.57999526 0.38191056 0.38817721 0.57000818\n",
      "  0.36670521 0.38877833 0.2973415  0.85624057]\n",
      " [0.62351133 0.7814276  0.06291409 0.66952761 0.7259712  0.70091949\n",
      "  0.34607012 0.43418071 0.54646564 0.99534729]\n",
      " [0.28624775 0.89331727 0.68246135 0.10861794 0.67000147 0.45405045\n",
      "  0.10820571 0.74761297 0.38046499 0.18820239]\n",
      " [0.84521243 0.88021012 0.04183044 0.31937076 0.03400932 0.3370006\n",
      "  0.61999333 0.0193346  0.01750058 0.03431992]\n",
      " [0.20432133 0.94964039 0.69471651 0.80020825 0.92276277 0.376643\n",
      "  0.82905009 0.8287386  0.92967343 0.66353438]]\n",
      "[[ 0.27452295 -0.35732211  0.11170055 -0.08638414 -0.0801175   0.10171348\n",
      "  -0.1015895  -0.07951638 -0.17095321  0.38794586]\n",
      " [ 0.03487782  0.19279409 -0.52571942  0.0808941   0.1373377   0.11228599\n",
      "  -0.24256339 -0.1544528  -0.04216787  0.40671378]\n",
      " [-0.16567048  0.44139904  0.23054312 -0.34330029  0.21808324  0.00213222\n",
      "  -0.34371252  0.29569474 -0.07145324 -0.26371584]\n",
      " [ 0.53033422  0.56533191 -0.27304777  0.00449255 -0.28086889  0.02212239\n",
      "   0.30511512 -0.29554361 -0.29737763 -0.28055829]\n",
      " [-0.51560755  0.22971152 -0.02521236  0.08027937  0.2028339  -0.34328588\n",
      "   0.10912121  0.10880972  0.20974455 -0.05639449]]\n"
     ]
    }
   ],
   "source": [
    "# 58、减去矩阵每一行的平均值 \n",
    "\n",
    "X = np.random.rand(5, 10)\n",
    "print(X)\n",
    "\n",
    "Y = X - X.mean(axis=1, keepdims=True) # axis=1 指的是沿着行进行计算。 VS keepdims=True 用来保持原始的维度，使得计算结果可以进行广播，与原矩阵进行进一步的运算。\n",
    "\n",
    "print(Y)\n",
    "\n",
    "\n"
   ]
  },
  {
   "cell_type": "code",
   "execution_count": 31,
   "metadata": {},
   "outputs": [
    {
     "name": "stdout",
     "output_type": "stream",
     "text": [
      "[[1 9 1]\n",
      " [0 3 8]\n",
      " [4 9 5]]\n",
      "[[0 3 8]\n",
      " [1 9 1]\n",
      " [4 9 5]]\n"
     ]
    }
   ],
   "source": [
    "# 59、假设你有一个二维数组，想按照数组的第 n 列的值进行排序，如何实现这一点？\n",
    "\n",
    "Z = np.random.randint(0, 10, (3, 3))\n",
    "\n",
    "print(Z)\n",
    "\n",
    "print(Z[Z[:,1].argsort()]) # 就是按照第1列排序其他列跟着走"
   ]
  },
  {
   "cell_type": "code",
   "execution_count": 34,
   "metadata": {},
   "outputs": [
    {
     "name": "stdout",
     "output_type": "stream",
     "text": [
      "[[0 2 1 1 1 2 2 0 0 2]\n",
      " [0 1 0 0 2 0 1 0 2 1]\n",
      " [2 2 1 0 0 0 1 1 0 1]]\n",
      "False\n",
      "[False False  True]\n"
     ]
    }
   ],
   "source": [
    "# 60、 如何判断一个给定的二维数组是否存在全为空的列（即包含的所有元素都是 0、NaN 或者某种表示“空”的值）。？\n",
    "\n",
    "Z = np.random.randint(0, 3, (3, 10)) # 0, 3：表示生成的随机整数范围是从 0 到 3（不包括 3，即范围是 0、1、2）； (3, 10)：指定生成的数组形状为 3 行 10 列，即生成一个 3x10 的二维数组。\n",
    "print(Z)\n",
    "print((~Z.any(axis=0)).any())\n",
    "\n",
    "Z = np.array([[0, 1, np.nan], [1, 2, np.nan], [4, 5, np.nan]])\n",
    "print(np.isnan(Z).all(axis=0))\n"
   ]
  },
  {
   "cell_type": "code",
   "execution_count": null,
   "metadata": {},
   "outputs": [],
   "source": [
    "# 61、这个重复了"
   ]
  },
  {
   "cell_type": "code",
   "execution_count": 35,
   "metadata": {},
   "outputs": [
    {
     "name": "stdout",
     "output_type": "stream",
     "text": [
      "[[0 1 2]\n",
      " [1 2 3]\n",
      " [2 3 4]]\n"
     ]
    }
   ],
   "source": [
    "# 62、考虑两个数组形状是(1, 3) 和 (3, 1) 怎么使用一个迭代器计算他们的sum？\n",
    "\n",
    "import numpy as np\n",
    "\n",
    "A = np.arange(3).reshape(3, 1)  # A 是一个 3x1 的数组，内容为 [[0], [1], [2]]\n",
    "B = np.arange(3).reshape(1, 3)  # B 是一个 1x3 的数组，内容为 [[0, 1, 2]]\n",
    "it = np.nditer([A, B, None])    # 创建一个 nditer，第三个数组 None 表示要保存计算结果的数组\n",
    "for x, y, z in it:\n",
    "    z[...] = x + y              # 对于 A 和 B 中的每个元素，计算它们的和并存入 z 中；z[...] = x + y 表示直接修改 z 指向的存储位置的值\n",
    "print(it.operands[2])           # 输出第三个操作数（即 z），即保存的计算结果\n"
   ]
  },
  {
   "cell_type": "code",
   "execution_count": 36,
   "metadata": {},
   "outputs": [
    {
     "name": "stdout",
     "output_type": "stream",
     "text": [
      "range_10_for_ragnor\n"
     ]
    }
   ],
   "source": [
    "# **** 63、创建一个带有name属性的array数组类\n",
    "\n",
    "class NameArray(np.ndarray):\n",
    "    def __new__(cls, array, name=\"no name\"):\n",
    "        obj = np.asarray(array).view(cls)\n",
    "        obj.name = name\n",
    "        return obj\n",
    "    \n",
    "    def __array_finalize__(self, obj):\n",
    "        if obj is None: return\n",
    "        self.name = getattr(obj, 'name', 'no name')\n",
    "\n",
    "\n",
    "Z = NameArray(np.arange(10), \"range_10_for_ragnor\")\n",
    "print(Z.name)"
   ]
  },
  {
   "cell_type": "code",
   "execution_count": 39,
   "metadata": {},
   "outputs": [
    {
     "name": "stdout",
     "output_type": "stream",
     "text": [
      "[1. 1. 1. 1. 1. 1. 1. 1. 1. 1.]\n",
      "[3 4 7 3 5 4 8 4 0 6 6 7 7 9 9 1 9 7 8 6]\n",
      "[2. 2. 1. 3. 4. 2. 4. 5. 3. 4.]\n"
     ]
    }
   ],
   "source": [
    "# 64、如何针对一个给定的向量，根据一个索引向量为特定的元素增加 1，其中需要特别小心的是索引向量中可能存在重复的索引。\n",
    "\n",
    "Z = np.ones(10)\n",
    "I = np.random.randint(0,len(Z),20)\n",
    "\n",
    "print(Z)\n",
    "print(I)\n",
    "np.add.at(Z, I, 1)\n",
    "print(Z)"
   ]
  },
  {
   "cell_type": "code",
   "execution_count": null,
   "metadata": {},
   "outputs": [],
   "source": [
    "# 65、如何根据一个索引列表（I），将向量 X 中的元素累加到一个数组 F 中？\n"
   ]
  },
  {
   "cell_type": "markdown",
   "metadata": {},
   "source": [
    "假设有以下数据：\n",
    "```python\n",
    "import numpy as np\n",
    "\n",
    "X = np.array([1, 2, 3, 4])  # 要累加的值\n",
    "I = np.array([0, 1, 1, 3])  # 每个值对应的目标位置索引\n",
    "F = np.array([0, 0, 0, 0])  # 目标数组，初始值为 0\n",
    "```\n",
    "现在，我们希望将 `X` 中的每个元素根据 `I` 指定的位置累加到 `F` 中：\n",
    "- `X[0]`（即 1）累加到 `F[I[0]]`，即 `F[0]`，结果是 `F[0] = 1`。\n",
    "- `X[1]`（即 2）累加到 `F[I[1]]`，即 `F[1]`，结果是 `F[1] = 2`。\n",
    "- `X[2]`（即 3）累加到 `F[I[2]]`，即 `F[1]`，结果是 `F[1] = 2 + 3 = 5`。\n",
    "- `X[3]`（即 4）累加到 `F[I[3]]`，即 `F[3]`，结果是 `F[3] = 4`。"
   ]
  },
  {
   "cell_type": "code",
   "execution_count": 40,
   "metadata": {},
   "outputs": [
    {
     "name": "stdout",
     "output_type": "stream",
     "text": [
      "[0. 7. 0. 6. 5. 0. 0. 0. 0. 3.]\n"
     ]
    }
   ],
   "source": [
    "# 解法\n",
    "\n",
    "X = [1,2,3,4,5,6]\n",
    "I = [1,3,9,3,4,1]\n",
    "F = np.bincount(I,X)\n",
    "print(F)"
   ]
  },
  {
   "cell_type": "code",
   "execution_count": 44,
   "metadata": {},
   "outputs": [
    {
     "name": "stdout",
     "output_type": "stream",
     "text": [
      "64\n"
     ]
    }
   ],
   "source": [
    "# 66、计算一幅给定的 RGB 图像中有多少种唯一的颜色。\n",
    "\n",
    "w, h = 256, 256\n",
    "I = np.random.randint(0, 4, (h, w, 3)).astype(np.ubyte)\n",
    "\n",
    "colors = np.unique(I.reshape(-1, 3), axis=0) # -1 表示让 numpy 自动计算行数，因此这里的重塑将产生一个形状为 (65536, 3) 的二维数组，因为 256 * 256 = 65536。\n",
    "n = len(colors)\n",
    "print(n)"
   ]
  },
  {
   "cell_type": "code",
   "execution_count": 45,
   "metadata": {},
   "outputs": [
    {
     "name": "stdout",
     "output_type": "stream",
     "text": [
      "[[67 66 55 63]\n",
      " [50 43 44 53]\n",
      " [65 45 55 53]]\n"
     ]
    }
   ],
   "source": [
    "# 67、假设你有一个四维数组 A，形状为 (a, b, c, d)。目标是对这个数组的最后两个轴（即 axis=-2 和 axis=-1，分别对应 c 和 d 轴）进行求和。换句话说，是要计算整个数组在最后两个维度上的总和，得到一个形状为 (a, b) 的结果。\n",
    "\n",
    "A = np.random.randint(0,10,(3,4,3,4))\n",
    "sum = A.sum(axis=(-2,-1))\n",
    "print(sum)\n",
    "\n"
   ]
  },
  {
   "cell_type": "code",
   "execution_count": 47,
   "metadata": {},
   "outputs": [
    {
     "name": "stdout",
     "output_type": "stream",
     "text": [
      "[0.43290224 0.52156249 0.34613582 0.54508032 0.61130207 0.82630724\n",
      " 0.57035668 0.61554317 0.53236969 0.47608324]\n",
      "0    0.432902\n",
      "1    0.521562\n",
      "2    0.346136\n",
      "3    0.545080\n",
      "4    0.611302\n",
      "5    0.826307\n",
      "6    0.570357\n",
      "7    0.615543\n",
      "8    0.532370\n",
      "9    0.476083\n",
      "dtype: float64\n"
     ]
    }
   ],
   "source": [
    "# 68、如何根据一个索引向量将一维向量 D 分割成不同的子集，并计算每个子集的均值\n",
    "\n",
    "D = np.random.uniform(0,1,100)\n",
    "S = np.random.randint(0,10,100)\n",
    "\n",
    "D_sums = np.bincount(S, weights=D)\n",
    "D_counts = np.bincount(S)\n",
    "D_means = D_sums / D_counts\n",
    "print(D_means)\n",
    "\n",
    "# pandas  6666\n",
    "\n",
    "import pandas as pd\n",
    "print(pd.Series(D).groupby(S).mean())"
   ]
  },
  {
   "cell_type": "code",
   "execution_count": 50,
   "metadata": {},
   "outputs": [
    {
     "data": {
      "text/plain": [
       "array([0.95382526, 0.67895192, 1.55691447, 1.51715501, 1.47011295])"
      ]
     },
     "execution_count": 50,
     "metadata": {},
     "output_type": "execute_result"
    }
   ],
   "source": [
    "# 69、计算两个矩阵点积（dot product）后得到的结果矩阵的对角线元素\n",
    "\n",
    "A = np.random.uniform(0,1,(5,5))\n",
    "B = np.random.uniform(0,1,(5,5))\n",
    "\n",
    "# Slow version\n",
    "np.diag(np.dot(A, B))\n",
    "\n",
    "# Fast version\n",
    "dia = np.sum(A * B.T, axis=1)\n",
    "dia"
   ]
  },
  {
   "cell_type": "code",
   "execution_count": 52,
   "metadata": {},
   "outputs": [
    {
     "name": "stdout",
     "output_type": "stream",
     "text": [
      "[0. 0. 0. 0. 0. 0. 0. 0. 0. 0. 0. 0. 0. 0. 0. 0. 0.]\n",
      "[1. 0. 0. 0. 2. 0. 0. 0. 3. 0. 0. 0. 4. 0. 0. 0. 5.]\n"
     ]
    }
   ],
   "source": [
    "# 70、如何将一个给定的一维向量，例如 [1, 2, 3, 4, 5]，构造出一个新的向量，在每两个相邻的值之间插入3 个连续的零。\n",
    "\n",
    "Z = np.array([1,2,3,4,5])\n",
    "nz = 3\n",
    "Z0 = np.zeros(len(Z) + (len(Z)-1)*(nz))\n",
    "print(Z0)\n",
    "Z0[::nz+1] = Z\n",
    "print(Z0)\n"
   ]
  },
  {
   "cell_type": "code",
   "execution_count": 53,
   "metadata": {},
   "outputs": [
    {
     "name": "stdout",
     "output_type": "stream",
     "text": [
      "[[[2. 2. 2.]\n",
      "  [2. 2. 2.]\n",
      "  [2. 2. 2.]\n",
      "  [2. 2. 2.]\n",
      "  [2. 2. 2.]]\n",
      "\n",
      " [[2. 2. 2.]\n",
      "  [2. 2. 2.]\n",
      "  [2. 2. 2.]\n",
      "  [2. 2. 2.]\n",
      "  [2. 2. 2.]]\n",
      "\n",
      " [[2. 2. 2.]\n",
      "  [2. 2. 2.]\n",
      "  [2. 2. 2.]\n",
      "  [2. 2. 2.]\n",
      "  [2. 2. 2.]]\n",
      "\n",
      " [[2. 2. 2.]\n",
      "  [2. 2. 2.]\n",
      "  [2. 2. 2.]\n",
      "  [2. 2. 2.]\n",
      "  [2. 2. 2.]]\n",
      "\n",
      " [[2. 2. 2.]\n",
      "  [2. 2. 2.]\n",
      "  [2. 2. 2.]\n",
      "  [2. 2. 2.]\n",
      "  [2. 2. 2.]]]\n"
     ]
    }
   ],
   "source": [
    "# 71、如何将一个三维数组与一个二维数组进行元素相乘，它们的形状分别为 (5, 5, 3) 和 (5, 5)\n",
    "\n",
    "A = np.ones((5,5,3))\n",
    "B = 2*np.ones((5,5))\n",
    "print(A * B[:,:,None]) # 注意哈553 要配 55N才好，因为 * 是哈达玛积，而np.dot才是点积，因此这里加了一个轴把55变为551"
   ]
  },
  {
   "cell_type": "code",
   "execution_count": 55,
   "metadata": {},
   "outputs": [
    {
     "name": "stdout",
     "output_type": "stream",
     "text": [
      "[[ 0  1  2  3  4]\n",
      " [ 5  6  7  8  9]\n",
      " [10 11 12 13 14]\n",
      " [15 16 17 18 19]\n",
      " [20 21 22 23 24]]\n",
      "[[ 5  6  7  8  9]\n",
      " [ 0  1  2  3  4]\n",
      " [10 11 12 13 14]\n",
      " [15 16 17 18 19]\n",
      " [20 21 22 23 24]]\n"
     ]
    }
   ],
   "source": [
    "# 72、怎么交换一个数组中的两行\n",
    "\n",
    "A = np.arange(25).reshape(5,5)\n",
    "print(A)\n",
    "\n",
    "A[[0,1]] = A[[1,0]] # A[[0,1]]直接就是A的第0行跟第1行哇\n",
    "print(A)"
   ]
  },
  {
   "cell_type": "code",
   "execution_count": 56,
   "metadata": {},
   "outputs": [],
   "source": [
    "# 如何从给定的10 个三角形描述中找到组成这些三角形的所有唯一的线段（边），并去除重复的线段。 \n",
    "\n"
   ]
  },
  {
   "cell_type": "markdown",
   "metadata": {},
   "source": [
    "假设我们有 4 个三角形，顶点编号为 0, 1, 2, 3：\n",
    "\n",
    "三角形 1：(0, 1, 2)\n",
    "三角形 2：(1, 2, 3)\n",
    "三角形 3：(0, 2, 3)\n",
    "三角形 4：(0, 1, 3)\n",
    "每个三角形有 3 条边：\n",
    "\n",
    "三角形 1：(0, 1), (1, 2), (2, 0)\n",
    "三角形 2：(1, 2), (2, 3), (3, 1)\n",
    "三角形 3：(0, 2), (2, 3), (3, 0)\n",
    "三角形 4：(0, 1), (1, 3), (3, 0)\n",
    "现在需要找到这些三角形中的唯一边集合，即去除重复的边。最终的唯一边集合是：\n",
    "\n",
    "(0, 1)\n",
    "(0, 2)\n",
    "(0, 3)\n",
    "(1, 2)\n",
    "(1, 3)\n",
    "(2, 3)"
   ]
  },
  {
   "cell_type": "code",
   "execution_count": 57,
   "metadata": {},
   "outputs": [
    {
     "name": "stdout",
     "output_type": "stream",
     "text": [
      "[(12, 44) (12, 59) (12, 64) (12, 92) (19, 90) (19, 91) (22, 24) (22, 49)\n",
      " (24, 49) (27, 58) (27, 71) (28, 48) (28, 60) (31, 69) (31, 73) (44, 59)\n",
      " (48, 60) (49, 93) (49, 94) (58, 71) (64, 92) (69, 73) (69, 85) (69, 95)\n",
      " (72, 89) (72, 94) (85, 95) (89, 94) (90, 91) (93, 94)]\n"
     ]
    }
   ],
   "source": [
    "faces = np.random.randint(0,100,(10,3))\n",
    "F = np.roll(faces.repeat(2,axis=1),-1,axis=1)\n",
    "F = F.reshape(len(F)*3,2)\n",
    "F = np.sort(F,axis=1)\n",
    "G = F.view( dtype=[('p0',F.dtype),('p1',F.dtype)] )\n",
    "G = np.unique(G)\n",
    "print(G)"
   ]
  },
  {
   "cell_type": "code",
   "execution_count": null,
   "metadata": {},
   "outputs": [],
   "source": []
  }
 ],
 "metadata": {
  "kernelspec": {
   "display_name": "1NLP-1CODE",
   "language": "python",
   "name": "python3"
  },
  "language_info": {
   "codemirror_mode": {
    "name": "ipython",
    "version": 3
   },
   "file_extension": ".py",
   "mimetype": "text/x-python",
   "name": "python",
   "nbconvert_exporter": "python",
   "pygments_lexer": "ipython3",
   "version": "3.10.15"
  }
 },
 "nbformat": 4,
 "nbformat_minor": 2
}
