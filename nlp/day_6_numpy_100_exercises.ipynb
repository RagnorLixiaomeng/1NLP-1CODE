{
 "cells": [
  {
   "cell_type": "code",
   "execution_count": 2,
   "metadata": {},
   "outputs": [],
   "source": [
    "# 1、导入numpy使用np的包名字\n",
    "import numpy as np"
   ]
  },
  {
   "cell_type": "code",
   "execution_count": null,
   "metadata": {},
   "outputs": [],
   "source": [
    "# 2、打印出numpy的版本和配置信息\n",
    "np.__version__\n",
    "np.show_config()"
   ]
  },
  {
   "cell_type": "code",
   "execution_count": null,
   "metadata": {},
   "outputs": [],
   "source": [
    "# 3、创建一个size=10的空向量\n",
    "vec = np.zeros(10)\n",
    "vec.size"
   ]
  },
  {
   "cell_type": "code",
   "execution_count": null,
   "metadata": {},
   "outputs": [],
   "source": [
    "# 4、怎么找到任意数组的内存占用空间\n",
    "Z  = np.zeros((10, 10))\n",
    "print(Z)\n",
    "print(Z.size, \"-\", Z.itemsize)\n",
    "print(\"%d bytes\" % (Z.size * Z.itemsize))"
   ]
  },
  {
   "cell_type": "code",
   "execution_count": null,
   "metadata": {},
   "outputs": [],
   "source": [
    "# 5、怎么在命令行模式下获取到numpy的add方法的帮助文档\n",
    "# !python -c \"import numpy; numpy.info(numpy.add)\" # jupyter中\n",
    "\n",
    "import numpy as np # 代码中\n",
    "np.add?\n"
   ]
  },
  {
   "cell_type": "code",
   "execution_count": null,
   "metadata": {},
   "outputs": [],
   "source": [
    "# 6、创建一个size=10的空向量但是第5个元素的值为1\n",
    "Z = np.zeros(10)\n",
    "Z[4] = 1\n",
    "print(Z)"
   ]
  },
  {
   "cell_type": "code",
   "execution_count": null,
   "metadata": {},
   "outputs": [],
   "source": [
    "# 7、创建一个值是10-49的向量\n",
    "Z = np.arange(10, 50) # 还是取头不取尾\n",
    "print(Z)"
   ]
  },
  {
   "cell_type": "code",
   "execution_count": null,
   "metadata": {},
   "outputs": [],
   "source": [
    "# 8、翻转一个向量（头变为尾）\n",
    "Z = np.arange(10)\n",
    "Z = Z[::-1]\n",
    "print(Z)"
   ]
  },
  {
   "cell_type": "code",
   "execution_count": null,
   "metadata": {},
   "outputs": [],
   "source": [
    "# 9、创建一个3*3的矩阵，其值从0-8\n",
    "Z = np.arange(9).reshape(3, 3)\n",
    "print(Z)"
   ]
  },
  {
   "cell_type": "code",
   "execution_count": null,
   "metadata": {},
   "outputs": [],
   "source": [
    "# 10、从[1,2,0,0,4,0] 1维数组（向量）中找到所有非零的元素\n",
    "Z = np.nonzero([1, 2, 0, 0, 4, 0])\n",
    "print(Z)"
   ]
  },
  {
   "cell_type": "code",
   "execution_count": null,
   "metadata": {},
   "outputs": [],
   "source": [
    "# 11、创建一个3 * 3 的方阵\n",
    "Z = np.eye(3)\n",
    "print(Z)"
   ]
  },
  {
   "cell_type": "code",
   "execution_count": null,
   "metadata": {},
   "outputs": [],
   "source": [
    "# 12、创建一个3 * 3 * 3的矩阵，其值是随机的\n",
    "Z = np.random.random((3, 3, 3))\n",
    "print(Z)"
   ]
  },
  {
   "cell_type": "code",
   "execution_count": null,
   "metadata": {},
   "outputs": [],
   "source": [
    "# 13、创建一个 10 * 10 的矩阵，其值随机，找到里面的最小值跟最大值\n",
    "Z = np.random.random((10, 10))\n",
    "Zmax, Zmin = Z.max(), Z.min()\n",
    "print(Zmax, \"-\", Zmin)"
   ]
  },
  {
   "cell_type": "code",
   "execution_count": null,
   "metadata": {},
   "outputs": [],
   "source": [
    "# 14、创建一个size为30的随机值向量，找到其平均值\n",
    "Z = np.random.random(30)\n",
    "Zmean = Z.mean()\n",
    "print(Zmean)"
   ]
  },
  {
   "cell_type": "code",
   "execution_count": null,
   "metadata": {},
   "outputs": [],
   "source": [
    "# 15、创建一个2位数组，外层都是1，内部都是0\n",
    "Z = np.ones((10, 10))\n",
    "print(Z)\n",
    "Z[1:-1, 1:-1] = 0 # 索引从0开始 + 取头不取尾 = 第2行到倒数第二行 * 第2列到倒数第二列 的挖心效果\n",
    "print(Z)"
   ]
  },
  {
   "cell_type": "code",
   "execution_count": null,
   "metadata": {},
   "outputs": [],
   "source": [
    "# 16、穿一层衣服，怎么用0包裹一个即存的array数组？\n",
    "\n",
    "Z = np.ones((5, 5))\n",
    "Z = np.pad(Z, pad_width=1, mode='constant', constant_values=0)\n",
    "print(Z)"
   ]
  },
  {
   "cell_type": "code",
   "execution_count": null,
   "metadata": {},
   "outputs": [],
   "source": [
    "# 17、下面的表达式的结果是什么\n",
    "\n",
    "print(0 * np.nan)\n",
    "print(np.nan == np.nan) # IEEE 754中规定nan谁都不等于包括它自己，而且无效不参与比较\n",
    "print(np.inf > np.nan)\n",
    "print(np.nan - np.nan)\n",
    "print(np.nan in set([np.nan]))\n",
    "print(0.3 == 3 * 0.1)"
   ]
  },
  {
   "cell_type": "code",
   "execution_count": null,
   "metadata": {},
   "outputs": [],
   "source": [
    "# 18、创建一个5 * 5的矩阵,偏离主对角线左下平移一个单位，其值为1234\n",
    "\n",
    "Z = np.diag(1+np.arange(4),k=-1) # 这个k就是沿着主对角线的法线平移量跟方向\n",
    "print(Z)"
   ]
  },
  {
   "cell_type": "code",
   "execution_count": null,
   "metadata": {},
   "outputs": [],
   "source": [
    "# 19、创建一个8 * 8 的矩阵，用棋盘格进行填充（纸笔画就懂了）\n",
    "\n",
    "Z = np.zeros((8, 8), dtype=int)\n",
    "Z[1::2, ::2] = 1 # 第 1 3 5 7 索引行  0 2 4 6索引列\n",
    "Z[::2, 1::2] = 1\n",
    "print(Z)"
   ]
  },
  {
   "cell_type": "code",
   "execution_count": null,
   "metadata": {},
   "outputs": [],
   "source": [
    "# 20、考虑一个 (6,7,8) 形数组，第 100 个元素的索引 (x,y,z) 是多少？\n",
    "\n",
    "print(np.unravel_index(99,(6,7,8)))"
   ]
  },
  {
   "cell_type": "code",
   "execution_count": null,
   "metadata": {},
   "outputs": [],
   "source": [
    "# 21、使用np的tile函数来创建一个8 * 8的类棋盘矩阵\n",
    "\n",
    "print(np.tile(np.array([[0, 1], [1, 0]]), (4, 4)))"
   ]
  },
  {
   "cell_type": "code",
   "execution_count": null,
   "metadata": {},
   "outputs": [],
   "source": [
    "# 22、标准化（均值为0，标准差为1）一个 5 * 5 的随机矩阵\n",
    "\n",
    "Z = np.random.random((5, 5))\n",
    "print(\"Z:{} \\n 均值:{} \\n 标准差:{}\".format(Z, np.mean(Z), np.std(Z)))\n",
    "Z = (Z - np.mean(Z)) / (np.std(Z))\n",
    "print(\"Z:{} \\n 均值:{} \\n 标准差:{}\".format(Z, np.mean(Z), np.std(Z)))"
   ]
  },
  {
   "cell_type": "code",
   "execution_count": null,
   "metadata": {},
   "outputs": [],
   "source": [
    "# 23、创建一个自定义的dtype，使用4个无符号字节码描述RGBA\n",
    "\n",
    "color = np.dtype([(\"r\", np.ubyte),\n",
    "                  (\"g\", np.ubyte),\n",
    "                  (\"b\", np.ubyte),\n",
    "                  (\"a\", np.ubyte)])\n",
    "\n",
    "# 使用自定义 dtype 创建一个数组\n",
    "colors = np.array([(255, 0, 0, 255),    # 红色，不透明\n",
    "                   (0, 255, 0, 255),    # 绿色，不透明\n",
    "                   (0, 0, 255, 128)],   # 蓝色，半透明\n",
    "                  dtype=color)\n",
    "\n",
    "print(colors)"
   ]
  },
  {
   "cell_type": "code",
   "execution_count": null,
   "metadata": {},
   "outputs": [],
   "source": [
    "# 24、5*3 矩阵乘以一个 3 * 2的矩阵怎么计算？\n",
    "\n",
    "Z = np.dot(np.ones((5, 3)), np.ones((3, 2)))\n",
    "print(Z)\n",
    "\n",
    "# Python3.5及以上可以用\n",
    "Z = np.ones((5, 3)) @ np.ones((3, 2))\n",
    "print(Z)"
   ]
  },
  {
   "cell_type": "code",
   "execution_count": null,
   "metadata": {},
   "outputs": [],
   "source": [
    "# 25、给定一个一维数组，把所有介于 3 和 8 之间的元素都取反。\n",
    "Z = np.arange(11)\n",
    "Z[(3 < Z) & (Z < 8)] *= -1\n",
    "print(Z)"
   ]
  },
  {
   "cell_type": "code",
   "execution_count": null,
   "metadata": {},
   "outputs": [],
   "source": [
    "# 26、下面的执行结果是多少\n",
    "\n",
    "print(sum(range(5), -1)) # 0 + 1 + 2 + 3 + 4 + 起始值（这里是-1） = 9"
   ]
  },
  {
   "cell_type": "code",
   "execution_count": null,
   "metadata": {},
   "outputs": [],
   "source": [
    "# 27、考虑一个int型的向量Z，下列哪个表达式是合法的？\n",
    "\n",
    "\n",
    "Z**Z\n",
    "2 << Z >> 2\n",
    "Z <- Z\n",
    "1j*Z\n",
    "Z/1/1\n",
    "Z<Z>Z\n",
    "\n",
    "\n",
    "# 用print试试\n",
    "Z = np.array([1, 2, 3], dtype=int)\n",
    "print(Z)\n",
    "print(Z ** Z)\n"
   ]
  },
  {
   "cell_type": "code",
   "execution_count": null,
   "metadata": {},
   "outputs": [],
   "source": [
    "# 28、下面运算表达式的结果是多少？\n",
    "\n",
    "np.array(0) / np.array(0)\n",
    "np.array(0) // np.array(0)\n",
    "np.array([np.nan]).astype(int).astype(float)\n",
    "\n",
    "# 运算下\n",
    "print(np.array(0) / np.array(0)) # nan 因为任何数除以 0 都是未定义的。\n",
    "print(np.array(0) // np.array(0)) # 0 在 NumPy 中，整除未定义的情况下返回 0，并且会生成一个警告\n",
    "print(np.array([np.nan]).astype(int).astype(float)) # NaN 转换为整数会导致不可预期的结果，通常是系统的最小整数值，然后再次转换为浮点数。"
   ]
  },
  {
   "cell_type": "code",
   "execution_count": null,
   "metadata": {},
   "outputs": [],
   "source": [
    "# 29、如何对浮点数进行四舍五入？\n",
    "\n",
    "Z = np.random.uniform(-10,+10,10)\n",
    "print(Z)\n",
    "print(np.copysign(np.ceil(np.abs(Z)), Z))  # 先对每个数取绝对值，再向上取整，最后恢复原来的正负号。\n",
    "\n",
    "# More readable but less efficient\n",
    "print(np.where(Z>0, np.ceil(Z), np.floor(Z))) # 对于正数进行向上取整，对于负数进行向下取整。\n",
    "\n",
    "# 真正的标准四舍五入\n",
    "print(np.round(Z))\n"
   ]
  },
  {
   "cell_type": "code",
   "execution_count": null,
   "metadata": {},
   "outputs": [],
   "source": [
    "# 30、怎么找到两个数组中相同的value值？\n",
    "Z1 = np.random.randint(0, 10, 10)\n",
    "Z2 = np.random.randint(0, 10, 10)\n",
    "\n",
    "print(Z1)\n",
    "print(Z2)\n",
    "print(np.intersect1d(Z1, Z2))"
   ]
  },
  {
   "cell_type": "code",
   "execution_count": null,
   "metadata": {},
   "outputs": [],
   "source": [
    "# 31、怎么忽略所有的enumpy警告（不建议）？\n",
    "\n",
    "# Suicide mode on\n",
    "defaults = np.seterr(all=\"ignore\")\n",
    "Z = np.ones(1) / 0\n",
    "\n",
    "# Back to sanity\n",
    "_ = np.seterr(**defaults)\n",
    "\n",
    "# Equivalently with a context manager\n",
    "with np.errstate(all=\"ignore\"):\n",
    "    np.arange(3) / 0"
   ]
  },
  {
   "cell_type": "code",
   "execution_count": null,
   "metadata": {},
   "outputs": [],
   "source": [
    "# 32、下面的表达式为true吗\n",
    "np.sqrt(-1) == np.emath.sqrt(-1) # np.sqrt(-1)返回 nan，因为负数没有实数平方根。 VS np.emath.sqrt(-1) 返回 1j，这是负数在复数域中的平方根。"
   ]
  },
  {
   "cell_type": "code",
   "execution_count": null,
   "metadata": {},
   "outputs": [],
   "source": [
    "# 33、在numpy中怎么获取到昨天，今天和明天？\n",
    "yesterday = np.datetime64('today') - np.timedelta64(1)\n",
    "today = np.datetime64('today') \n",
    "tomorrow = np.datetime64('today') + np.timedelta64(1)\n",
    "\n",
    "yesterday, today, tomorrow"
   ]
  },
  {
   "cell_type": "code",
   "execution_count": null,
   "metadata": {},
   "outputs": [],
   "source": [
    "# 34、如何获取与 2016 年 7 月相对应的所有日期？\n",
    "Z = np.arange('2016-07', '2016-08', dtype='datetime64[D]')\n",
    "print(Z)"
   ]
  },
  {
   "cell_type": "code",
   "execution_count": null,
   "metadata": {},
   "outputs": [],
   "source": [
    "# 35、如何计算 ((A+B)*(-A/2)) in-place（无需复制）\n",
    "\n",
    "# in-place的意思就是运算过程中的结果会直接存储在原始数组中，这样的话节省内存、提高计算效率（因为节省了内存拷贝的时间）\n",
    "A = np.ones(3) * 1\n",
    "B = np.ones(3) * 2\n",
    "\n",
    "np.add(A, B, out=B)\n",
    "np.divide(A, 2, out=A)\n",
    "np.negative(A, out=A)\n",
    "np.multiply(A, B, out=A)\n",
    "A"
   ]
  },
  {
   "cell_type": "code",
   "execution_count": null,
   "metadata": {},
   "outputs": [],
   "source": [
    "# 36、使用 4 种不同方法提取正数随机数组的整数部分\n",
    "Z = np.random.uniform(0, 10, 10) # uniform指的是均匀分布\n",
    "print(Z)\n",
    "\n",
    "print(Z - Z % 1) # %就是取模，取模就是取余数比如2.34 % 2 = 0.34 \n",
    "print(Z // 1) # 地板除法：总是向小的方向取整比如7.9 // 1 = 7\n",
    "print(np.floor(Z))\n",
    "print(Z.astype(int))\n",
    "print(np.trunc(Z))"
   ]
  },
  {
   "cell_type": "code",
   "execution_count": null,
   "metadata": {},
   "outputs": [],
   "source": [
    "# 37、创建一个 5 * 5的矩阵其行的值从0-4\n",
    "\n",
    "Z = np.zeros((5, 5))\n",
    "Z += np.arange(5)\n",
    "print(Z)\n",
    "\n",
    "\n",
    "# 不用numpy的广播机制\n",
    "Z = np.tile(np.arange(0, 5), (5, 1))\n",
    "print(Z)"
   ]
  },
  {
   "cell_type": "code",
   "execution_count": null,
   "metadata": {},
   "outputs": [],
   "source": [
    "# 38、考虑使用一个生成器生成10个整型数字，使用这个生成器构建一个数组\n",
    "\n",
    "def generate():\n",
    "    for x in range(10):\n",
    "        yield x\n",
    "\n",
    "Z = np.fromiter(generate(), dtype=int, count=-1) # count 参数指定从可迭代对象中提取多少个元素， -1是全部；正数是最多几个\n",
    "print(Z)\n"
   ]
  },
  {
   "cell_type": "code",
   "execution_count": null,
   "metadata": {},
   "outputs": [],
   "source": [
    "# 39、创建一个大小为 10 的向量，其元素值在 0 和 1 之间，但不包括 0 和 1。\n",
    "\n",
    "Z = np.linspace(0, 1, 11, endpoint=False)[1:] # 生成从 0 到 1（不包括 1）的 11 个均匀间隔的数，结果是 [0, 0.1, 0.2, ..., 0.9] ； [1:] 表示去掉第一个元素 0\n",
    "print(Z)"
   ]
  },
  {
   "cell_type": "code",
   "execution_count": null,
   "metadata": {},
   "outputs": [],
   "source": [
    "# 40、创建一个随机值组成的向量其size等于10，然后对它进行排序\n",
    "\n",
    "Z = np.random.random(10)\n",
    "Z.sort()\n",
    "print(Z)"
   ]
  },
  {
   "cell_type": "code",
   "execution_count": null,
   "metadata": {},
   "outputs": [],
   "source": [
    "# 41、怎么对一个小数组求和，比np.sum要快的方法？\n",
    "Z = np.arange(10)\n",
    "print(Z)\n",
    "\n",
    "res1 = np.add.reduce(Z) \n",
    "print(res1)\n",
    "\n",
    "# 这里看起来同np.sum 不过reduce的底层实现更高效。但是 如果只是求和，np.sum 更直观和简洁。如果你想要对其他操作进行归约，使用 ufunc.reduce 会更灵活。\n",
    "res2 = np.multiply.reduce(Z) # 用于对数组中的元素做乘法归约\n",
    "print(res2)\n"
   ]
  },
  {
   "cell_type": "code",
   "execution_count": null,
   "metadata": {},
   "outputs": [],
   "source": [
    "# 42、检查两个数组A和B是否equal\n",
    "A = np.random.randint(0, 2 , 5)\n",
    "B = np.random.randint(0, 2, 5)\n",
    "\n",
    "almost_equal = np.allclose(A, B) # 用于比较两个数组的数值是否接近，考虑浮点数误差，允许一些容差。\n",
    "print(almost_equal)\n",
    "\n",
    "equal = np.array_equal(A, B) #  用于比较两个数组的形状和所有元素是否完全一致，不允许任何误差。\n",
    "print(equal)\n"
   ]
  },
  {
   "cell_type": "code",
   "execution_count": null,
   "metadata": {},
   "outputs": [],
   "source": [
    "# 43、让一个数组只读\n",
    "\n",
    "Z = np.zeros(10)\n",
    "Z.flags.writeable = False\n",
    "Z[0] = 1 # ValueError: assignment destination is read-only"
   ]
  },
  {
   "cell_type": "code",
   "execution_count": null,
   "metadata": {},
   "outputs": [],
   "source": [
    "# 44、考虑一个代表直角坐标的随机 10x2 矩阵，将其转换为极坐标\n",
    "Z = np.random.random((10, 2))\n",
    "X, Y = Z[:, 0], Z[:, 1] # 注意这个 , 第一列 第二列啊\n",
    "\n",
    "# print(Z)\n",
    "# print(X)\n",
    "# print(Y)\n",
    "\n",
    "R = np.sqrt(X**2+Y**2)\n",
    "T = np.arctan2(Y,X)\n",
    "print(R)\n",
    "print(T)\n",
    "\n"
   ]
  },
  {
   "cell_type": "markdown",
   "metadata": {},
   "source": [
    "笛卡尔坐标系到极坐标系\n",
    "![](./attachements/直角坐标系转到极坐标.png)"
   ]
  },
  {
   "cell_type": "code",
   "execution_count": null,
   "metadata": {},
   "outputs": [],
   "source": [
    "# 45、创建一个size为10的向量。并且把其中的最大值替换为0\n",
    "\n",
    "Z = np.random.random(10)\n",
    "Z[Z.argmax()] = 0\n",
    "print(Z)"
   ]
  },
  {
   "cell_type": "code",
   "execution_count": null,
   "metadata": {},
   "outputs": [],
   "source": [
    "# 46、创建一个结构数组，其中的 `x` 和 `y` 坐标覆盖 [0,1]x[0,1] 区域: 坐标数据\n",
    "\n",
    "Z = np.zeros((5, 5), [('x', float), ('y', float)])\n",
    "Z['x'], Z['y'] = np.meshgrid(np.linspace(0, 1, 5), np.linspace(0, 1, 5))\n",
    "\n",
    "print(Z)\n",
    "\n"
   ]
  },
  {
   "cell_type": "code",
   "execution_count": null,
   "metadata": {},
   "outputs": [],
   "source": [
    "# 47、给定两个数组，X 和 Y，构造柯西矩阵 C，其元素定义为 C (Cij =1/(xi - yj))。\n",
    "\n",
    "X = np.arange(8)\n",
    "Y = X + 0.5\n",
    "C = 1 / np.subtract.outer(X, Y)\n",
    "print(np.linalg.det(C))"
   ]
  },
  {
   "cell_type": "code",
   "execution_count": null,
   "metadata": {},
   "outputs": [],
   "source": [
    "# 48、打印每种 numpy 标量类型的最小和最大可表示值。\n",
    "\n",
    "for dtype in [np.int8, np.int32, np.int64]:\n",
    "   print(np.iinfo(dtype).min)\n",
    "   print(np.iinfo(dtype).max)\n",
    "for dtype in [np.float32, np.float64]:\n",
    "   print(np.finfo(dtype).min)\n",
    "   print(np.finfo(dtype).max)\n",
    "   print(np.finfo(dtype).eps)\n"
   ]
  },
  {
   "cell_type": "code",
   "execution_count": 3,
   "metadata": {},
   "outputs": [
    {
     "name": "stdout",
     "output_type": "stream",
     "text": [
      "[[0. 0. 0. ... 0. 0. 0.]\n",
      " [0. 0. 0. ... 0. 0. 0.]\n",
      " [0. 0. 0. ... 0. 0. 0.]\n",
      " ...\n",
      " [0. 0. 0. ... 0. 0. 0.]\n",
      " [0. 0. 0. ... 0. 0. 0.]\n",
      " [0. 0. 0. ... 0. 0. 0.]]\n"
     ]
    }
   ],
   "source": [
    "# 49、怎么把一个数组中的所有元素值都打印出来？\n",
    "\n",
    "np.set_printoptions(threshold=float(\"inf\")) # 因为numpy默认会中间的都 .. 这样不是好看吗，你想看全就这样设置\n",
    "Z = np.zeros((40, 40))\n",
    "print(Z)"
   ]
  },
  {
   "cell_type": "code",
   "execution_count": 6,
   "metadata": {},
   "outputs": [
    {
     "name": "stdout",
     "output_type": "stream",
     "text": [
      "65\n"
     ]
    }
   ],
   "source": [
    "# 50、给定一个值，怎么找到一个向量中的最接近值\n",
    "\n",
    "Z = np.arange(100)\n",
    "v = np.random.uniform(0, 100)\n",
    "\n",
    "index = (np.abs(Z - v)).argmin() # 可以理解为欧式距离最小的算法\n",
    "print(Z[index])"
   ]
  },
  {
   "cell_type": "code",
   "execution_count": 7,
   "metadata": {},
   "outputs": [
    {
     "name": "stdout",
     "output_type": "stream",
     "text": [
      "[((0., 0.), (0., 0., 0.)) ((0., 0.), (0., 0., 0.))\n",
      " ((0., 0.), (0., 0., 0.)) ((0., 0.), (0., 0., 0.))\n",
      " ((0., 0.), (0., 0., 0.)) ((0., 0.), (0., 0., 0.))\n",
      " ((0., 0.), (0., 0., 0.)) ((0., 0.), (0., 0., 0.))\n",
      " ((0., 0.), (0., 0., 0.)) ((0., 0.), (0., 0., 0.))]\n"
     ]
    },
    {
     "name": "stderr",
     "output_type": "stream",
     "text": [
      "/var/folders/pb/3dngzxtd7qg8fckyfxmqp5s40000gn/T/ipykernel_51358/1656856968.py:3: FutureWarning: Passing (type, 1) or '1type' as a synonym of type is deprecated; in a future version of numpy, it will be understood as (type, (1,)) / '(1,)type'.\n",
      "  Z = np.zeros(10, [('position', [('x', float, 1), ('y', float, 1)]), ('color', [('r', float, 1), ('g', float, 1), ('b', float, 1)])])\n"
     ]
    }
   ],
   "source": [
    "# 51、创建一个结构化的数组，该数组对象包含一个位置（x, y）跟一个颜色 （r, g, b）\n",
    "\n",
    "Z = np.zeros(10, [('position', [('x', float, 1), ('y', float, 1)]), ('color', [('r', float, 1), ('g', float, 1), ('b', float, 1)])])\n",
    "print(Z)"
   ]
  },
  {
   "cell_type": "code",
   "execution_count": 8,
   "metadata": {},
   "outputs": [
    {
     "name": "stdout",
     "output_type": "stream",
     "text": [
      "[[0.         0.23404341 1.01587164 0.51841563 0.56106774 0.58423472\n",
      "  0.60410398 0.74234384 0.46671147 0.91783708]\n",
      " [0.23404341 0.         0.7999872  0.3039784  0.37527788 0.46797198\n",
      "  0.46328282 0.51698006 0.27194614 0.68484751]\n",
      " [1.01587164 0.7999872  0.         0.68408265 0.77822617 0.5843205\n",
      "  0.52084957 0.5641881  0.75814085 0.27546214]\n",
      " [0.51841563 0.3039784  0.68408265 0.         0.11785327 0.61403969\n",
      "  0.57653074 0.22973618 0.0783276  0.48120095]\n",
      " [0.56106774 0.37527788 0.77822617 0.11785327 0.         0.72923052\n",
      "  0.69342659 0.25863764 0.10376015 0.55193045]\n",
      " [0.58423472 0.46797198 0.5843205  0.61403969 0.72923052 0.\n",
      "  0.06654775 0.70260466 0.64105873 0.65163186]\n",
      " [0.60410398 0.46328282 0.52084957 0.57653074 0.69342659 0.06654775\n",
      "  0.         0.64886661 0.61030435 0.58590109]\n",
      " [0.74234384 0.51698006 0.5641881  0.22973618 0.25863764 0.70260466\n",
      "  0.64886661 0.         0.30020943 0.30861352]\n",
      " [0.46671147 0.27194614 0.75814085 0.0783276  0.10376015 0.64105873\n",
      "  0.61030435 0.30020943 0.         0.55950971]\n",
      " [0.91783708 0.68484751 0.27546214 0.48120095 0.55193045 0.65163186\n",
      "  0.58590109 0.30861352 0.55950971 0.        ]]\n",
      "[[0.         0.57019472 0.38593684 0.38305404 0.29838248 0.28857415\n",
      "  0.46311417 0.52647694 0.40746556 0.13140341]\n",
      " [0.57019472 0.         0.46565545 0.48727842 0.29237961 0.85676505\n",
      "  0.54892918 0.37704115 0.2306473  0.60357697]\n",
      " [0.38593684 0.46565545 0.         0.02240511 0.24407315 0.62217642\n",
      "  0.72664846 0.1796788  0.23756094 0.30572782]\n",
      " [0.38305404 0.48727842 0.02240511 0.         0.25948751 0.61179677\n",
      "  0.73654006 0.19850354 0.25854558 0.29641926]\n",
      " [0.29838248 0.29237961 0.24407315 0.25948751 0.         0.58594871\n",
      "  0.49692292 0.28526344 0.11249273 0.3119151 ]\n",
      " [0.28857415 0.85676505 0.62217642 0.61179677 0.58594871 0.\n",
      "  0.6186209  0.78678732 0.69279471 0.31683049]\n",
      " [0.46311417 0.54892918 0.72664846 0.73654006 0.49692292 0.6186209\n",
      "  0.         0.77626516 0.57670073 0.58925646]\n",
      " [0.52647694 0.37704115 0.1796788  0.19850354 0.28526344 0.78678732\n",
      "  0.77626516 0.         0.20294752 0.47120209]\n",
      " [0.40746556 0.2306473  0.23756094 0.25854558 0.11249273 0.69279471\n",
      "  0.57670073 0.20294752 0.         0.40330291]\n",
      " [0.13140341 0.60357697 0.30572782 0.29641926 0.3119151  0.31683049\n",
      "  0.58925646 0.47120209 0.40330291 0.        ]]\n"
     ]
    }
   ],
   "source": [
    "# 52、考虑一个坐标形状为 (100,2) 的随机矢量，找出点与点之间的距离\n",
    "\n",
    "Z = np.random.random((10,2))\n",
    "X,Y = np.atleast_2d(Z[:,0], Z[:,1])\n",
    "D = np.sqrt( (X-X.T)**2 + (Y-Y.T)**2)\n",
    "print(D)\n",
    "\n",
    "# Much faster with scipy\n",
    "import scipy\n",
    "import scipy.spatial\n",
    "\n",
    "Z = np.random.random((10,2))\n",
    "D = scipy.spatial.distance.cdist(Z,Z)\n",
    "print(D)"
   ]
  },
  {
   "cell_type": "code",
   "execution_count": 15,
   "metadata": {},
   "outputs": [
    {
     "name": "stdout",
     "output_type": "stream",
     "text": [
      "[83.80721  78.20614  77.68958   8.236239 18.335766 53.685535 61.56432\n",
      " 88.99905  55.798237 10.671986]\n",
      "[83 78 77  8 18 53 61 88 55 10]\n",
      "[47 10  0 78  0 74 25 83 70 48]\n"
     ]
    }
   ],
   "source": [
    "# 53、怎么内联式的（in-place）把一个float32的数组转为int32\n",
    "\n",
    "Z = (np.random.rand(10)*100).astype(np.float32)\n",
    "print(Z)\n",
    "Y = Z.view(np.int32) # Y = Z.view(np.int32) 这部分并不是将 Z 转换为 int32，而是以 int32 视角来解释 Z 的内存。\n",
    "\n",
    "Y[:] = Z\n",
    "print(Y)\n",
    "\n",
    "\n",
    "# 更清晰合理的解法\n",
    "Z = (np.random.rand(10) * 100).astype(np.float32)\n",
    "Z = Z.astype(np.int32, copy=False)\n",
    "print(Z)\n"
   ]
  },
  {
   "cell_type": "code",
   "execution_count": 17,
   "metadata": {},
   "outputs": [
    {
     "name": "stdout",
     "output_type": "stream",
     "text": [
      "[[ 1  2  3  4  5]\n",
      " [ 6 -1 -1  7  8]\n",
      " [-1 -1  9 10 11]]\n"
     ]
    }
   ],
   "source": [
    "# 54、怎么从下面的file中读取数组\n",
    "# 1, 2, 3, 4, 5\n",
    "# 6,  ,  , 7, 8\n",
    "#  ,  , 9,10,11\n",
    "\n",
    "\n",
    "from io import StringIO\n",
    "\n",
    "# Fack file\n",
    "s = StringIO('''1, 2, 3, 4, 5\n",
    "\n",
    "                6,  ,  , 7, 8\n",
    "\n",
    "                 ,  , 9,10,11\n",
    "''')\n",
    "\n",
    "Z = np.genfromtxt(s, delimiter=\",\", dtype=int)\n",
    "print(Z)"
   ]
  },
  {
   "cell_type": "code",
   "execution_count": 22,
   "metadata": {},
   "outputs": [
    {
     "name": "stdout",
     "output_type": "stream",
     "text": [
      "(0, 0) 0\n",
      "(0, 1) 1\n",
      "(0, 2) 2\n",
      "(1, 0) 3\n",
      "(1, 1) 4\n",
      "(1, 2) 5\n",
      "(2, 0) 6\n",
      "(2, 1) 7\n",
      "(2, 2) 8\n",
      "(0, 0) 0\n",
      "(0, 1) 1\n",
      "(0, 2) 2\n",
      "(1, 0) 3\n",
      "(1, 1) 4\n",
      "(1, 2) 5\n",
      "(2, 0) 6\n",
      "(2, 1) 7\n",
      "(2, 2) 8\n"
     ]
    }
   ],
   "source": [
    "# 55、\"numpy 数组中等价于 `enumerate` 的函数是什么？\" 其实就是想要位置加元素值\n",
    "\n",
    "\n",
    "Z = np.arange(9).reshape(3,3)\n",
    "\n",
    "for index, value in np.ndenumerate(Z):\n",
    "    print(index, value)\n",
    "\n",
    "for index in np.ndindex(Z.shape):\n",
    "    print(index, Z[index])"
   ]
  },
  {
   "cell_type": "code",
   "execution_count": 23,
   "metadata": {},
   "outputs": [
    {
     "name": "stdout",
     "output_type": "stream",
     "text": [
      "[[0.36787944 0.44822088 0.51979489 0.57375342 0.60279818 0.60279818\n",
      "  0.57375342 0.51979489 0.44822088 0.36787944]\n",
      " [0.44822088 0.54610814 0.63331324 0.69905581 0.73444367 0.73444367\n",
      "  0.69905581 0.63331324 0.54610814 0.44822088]\n",
      " [0.51979489 0.63331324 0.73444367 0.81068432 0.85172308 0.85172308\n",
      "  0.81068432 0.73444367 0.63331324 0.51979489]\n",
      " [0.57375342 0.69905581 0.81068432 0.89483932 0.9401382  0.9401382\n",
      "  0.89483932 0.81068432 0.69905581 0.57375342]\n",
      " [0.60279818 0.73444367 0.85172308 0.9401382  0.98773022 0.98773022\n",
      "  0.9401382  0.85172308 0.73444367 0.60279818]\n",
      " [0.60279818 0.73444367 0.85172308 0.9401382  0.98773022 0.98773022\n",
      "  0.9401382  0.85172308 0.73444367 0.60279818]\n",
      " [0.57375342 0.69905581 0.81068432 0.89483932 0.9401382  0.9401382\n",
      "  0.89483932 0.81068432 0.69905581 0.57375342]\n",
      " [0.51979489 0.63331324 0.73444367 0.81068432 0.85172308 0.85172308\n",
      "  0.81068432 0.73444367 0.63331324 0.51979489]\n",
      " [0.44822088 0.54610814 0.63331324 0.69905581 0.73444367 0.73444367\n",
      "  0.69905581 0.63331324 0.54610814 0.44822088]\n",
      " [0.36787944 0.44822088 0.51979489 0.57375342 0.60279818 0.60279818\n",
      "  0.57375342 0.51979489 0.44822088 0.36787944]]\n"
     ]
    },
    {
     "data": {
      "image/png": "[encoded data removed]",
      "text/plain": [
       "<Figure size 640x480 with 1 Axes>"
      ]
     },
     "metadata": {},
     "output_type": "display_data"
    }
   ],
   "source": [
    "# 56、生成一个2维的高斯分布数组\n",
    "\n",
    "X, Y = np.meshgrid(np.linspace(-1,1,10), np.linspace(-1,1,10))\n",
    "D = np.sqrt(X*X+Y*Y)\n",
    "sigma, mu = 1.0, 0.0\n",
    "G = np.exp(-( (D-mu)**2 / ( 2.0 * sigma**2 ) ) )\n",
    "print(G)\n",
    "\n",
    "\n",
    "import matplotlib.pyplot as plt\n",
    "from mpl_toolkits.mplot3d import Axes3D\n",
    "\n",
    "fig = plt.figure()\n",
    "ax = fig.add_subplot(111, projection='3d')\n",
    "ax.plot_surface(X, Y, G, cmap='viridis')\n",
    "\n",
    "plt.show()\n"
   ]
  },
  {
   "cell_type": "code",
   "execution_count": 24,
   "metadata": {},
   "outputs": [
    {
     "name": "stdout",
     "output_type": "stream",
     "text": [
      "[[0. 0. 0. 0. 0. 0. 0. 0. 0. 0.]\n",
      " [0. 0. 0. 0. 0. 0. 0. 0. 0. 0.]\n",
      " [0. 0. 0. 0. 0. 0. 0. 0. 0. 0.]\n",
      " [0. 0. 1. 0. 0. 0. 0. 0. 0. 0.]\n",
      " [0. 0. 0. 0. 0. 0. 0. 0. 0. 0.]\n",
      " [0. 1. 0. 0. 0. 0. 0. 0. 0. 0.]\n",
      " [0. 0. 0. 0. 0. 1. 0. 0. 0. 0.]\n",
      " [0. 0. 0. 0. 0. 0. 0. 0. 0. 0.]\n",
      " [0. 0. 0. 0. 0. 0. 0. 0. 0. 0.]\n",
      " [0. 0. 0. 0. 0. 0. 0. 0. 0. 0.]]\n"
     ]
    }
   ],
   "source": [
    "# 57、怎么在一个2维数组中随机替换p个元素？\n",
    "\n",
    "n = 10\n",
    "p = 3\n",
    "Z = np.zeros((n , n))\n",
    "\n",
    "np.put(Z, np.random.choice(range(n*n), p, replace=False), 1) # 怕你误会replace=False：表示选择时不允许重复，确保每个索引只会被选中一次。\n",
    "print(Z)"
   ]
  },
  {
   "cell_type": "code",
   "execution_count": 28,
   "metadata": {},
   "outputs": [
    {
     "name": "stdout",
     "output_type": "stream",
     "text": [
      "[[0.74281766 0.1109726  0.57999526 0.38191056 0.38817721 0.57000818\n",
      "  0.36670521 0.38877833 0.2973415  0.85624057]\n",
      " [0.62351133 0.7814276  0.06291409 0.66952761 0.7259712  0.70091949\n",
      "  0.34607012 0.43418071 0.54646564 0.99534729]\n",
      " [0.28624775 0.89331727 0.68246135 0.10861794 0.67000147 0.45405045\n",
      "  0.10820571 0.74761297 0.38046499 0.18820239]\n",
      " [0.84521243 0.88021012 0.04183044 0.31937076 0.03400932 0.3370006\n",
      "  0.61999333 0.0193346  0.01750058 0.03431992]\n",
      " [0.20432133 0.94964039 0.69471651 0.80020825 0.92276277 0.376643\n",
      "  0.82905009 0.8287386  0.92967343 0.66353438]]\n",
      "[[ 0.27452295 -0.35732211  0.11170055 -0.08638414 -0.0801175   0.10171348\n",
      "  -0.1015895  -0.07951638 -0.17095321  0.38794586]\n",
      " [ 0.03487782  0.19279409 -0.52571942  0.0808941   0.1373377   0.11228599\n",
      "  -0.24256339 -0.1544528  -0.04216787  0.40671378]\n",
      " [-0.16567048  0.44139904  0.23054312 -0.34330029  0.21808324  0.00213222\n",
      "  -0.34371252  0.29569474 -0.07145324 -0.26371584]\n",
      " [ 0.53033422  0.56533191 -0.27304777  0.00449255 -0.28086889  0.02212239\n",
      "   0.30511512 -0.29554361 -0.29737763 -0.28055829]\n",
      " [-0.51560755  0.22971152 -0.02521236  0.08027937  0.2028339  -0.34328588\n",
      "   0.10912121  0.10880972  0.20974455 -0.05639449]]\n"
     ]
    }
   ],
   "source": [
    "# 58、减去矩阵每一行的平均值 \n",
    "\n",
    "X = np.random.rand(5, 10)\n",
    "print(X)\n",
    "\n",
    "Y = X - X.mean(axis=1, keepdims=True) # axis=1 指的是沿着行进行计算。 VS keepdims=True 用来保持原始的维度，使得计算结果可以进行广播，与原矩阵进行进一步的运算。\n",
    "\n",
    "print(Y)\n",
    "\n",
    "\n"
   ]
  },
  {
   "cell_type": "code",
   "execution_count": 31,
   "metadata": {},
   "outputs": [
    {
     "name": "stdout",
     "output_type": "stream",
     "text": [
      "[[1 9 1]\n",
      " [0 3 8]\n",
      " [4 9 5]]\n",
      "[[0 3 8]\n",
      " [1 9 1]\n",
      " [4 9 5]]\n"
     ]
    }
   ],
   "source": [
    "# 59、假设你有一个二维数组，想按照数组的第 n 列的值进行排序，如何实现这一点？\n",
    "\n",
    "Z = np.random.randint(0, 10, (3, 3))\n",
    "\n",
    "print(Z)\n",
    "\n",
    "print(Z[Z[:,1].argsort()]) # 就是按照第1列排序其他列跟着走"
   ]
  },
  {
   "cell_type": "code",
   "execution_count": 34,
   "metadata": {},
   "outputs": [
    {
     "name": "stdout",
     "output_type": "stream",
     "text": [
      "[[0 2 1 1 1 2 2 0 0 2]\n",
      " [0 1 0 0 2 0 1 0 2 1]\n",
      " [2 2 1 0 0 0 1 1 0 1]]\n",
      "False\n",
      "[False False  True]\n"
     ]
    }
   ],
   "source": [
    "# 60、 如何判断一个给定的二维数组是否存在全为空的列（即包含的所有元素都是 0、NaN 或者某种表示“空”的值）。？\n",
    "\n",
    "Z = np.random.randint(0, 3, (3, 10)) # 0, 3：表示生成的随机整数范围是从 0 到 3（不包括 3，即范围是 0、1、2）； (3, 10)：指定生成的数组形状为 3 行 10 列，即生成一个 3x10 的二维数组。\n",
    "print(Z)\n",
    "print((~Z.any(axis=0)).any())\n",
    "\n",
    "Z = np.array([[0, 1, np.nan], [1, 2, np.nan], [4, 5, np.nan]])\n",
    "print(np.isnan(Z).all(axis=0))\n"
   ]
  },
  {
   "cell_type": "code",
   "execution_count": null,
   "metadata": {},
   "outputs": [],
   "source": [
    "# 61、这个重复了"
   ]
  },
  {
   "cell_type": "code",
   "execution_count": 35,
   "metadata": {},
   "outputs": [
    {
     "name": "stdout",
     "output_type": "stream",
     "text": [
      "[[0 1 2]\n",
      " [1 2 3]\n",
      " [2 3 4]]\n"
     ]
    }
   ],
   "source": [
    "# 62、考虑两个数组形状是(1, 3) 和 (3, 1) 怎么使用一个迭代器计算他们的sum？\n",
    "\n",
    "import numpy as np\n",
    "\n",
    "A = np.arange(3).reshape(3, 1)  # A 是一个 3x1 的数组，内容为 [[0], [1], [2]]\n",
    "B = np.arange(3).reshape(1, 3)  # B 是一个 1x3 的数组，内容为 [[0, 1, 2]]\n",
    "it = np.nditer([A, B, None])    # 创建一个 nditer，第三个数组 None 表示要保存计算结果的数组\n",
    "for x, y, z in it:\n",
    "    z[...] = x + y              # 对于 A 和 B 中的每个元素，计算它们的和并存入 z 中；z[...] = x + y 表示直接修改 z 指向的存储位置的值\n",
    "print(it.operands[2])           # 输出第三个操作数（即 z），即保存的计算结果\n"
   ]
  },
  {
   "cell_type": "code",
   "execution_count": 36,
   "metadata": {},
   "outputs": [
    {
     "name": "stdout",
     "output_type": "stream",
     "text": [
      "range_10_for_ragnor\n"
     ]
    }
   ],
   "source": [
    "# **** 63、创建一个带有name属性的array数组类\n",
    "\n",
    "class NameArray(np.ndarray):\n",
    "    def __new__(cls, array, name=\"no name\"):\n",
    "        obj = np.asarray(array).view(cls)\n",
    "        obj.name = name\n",
    "        return obj\n",
    "    \n",
    "    def __array_finalize__(self, obj):\n",
    "        if obj is None: return\n",
    "        self.name = getattr(obj, 'name', 'no name')\n",
    "\n",
    "\n",
    "Z = NameArray(np.arange(10), \"range_10_for_ragnor\")\n",
    "print(Z.name)"
   ]
  },
  {
   "cell_type": "code",
   "execution_count": 39,
   "metadata": {},
   "outputs": [
    {
     "name": "stdout",
     "output_type": "stream",
     "text": [
      "[1. 1. 1. 1. 1. 1. 1. 1. 1. 1.]\n",
      "[3 4 7 3 5 4 8 4 0 6 6 7 7 9 9 1 9 7 8 6]\n",
      "[2. 2. 1. 3. 4. 2. 4. 5. 3. 4.]\n"
     ]
    }
   ],
   "source": [
    "# 64、如何针对一个给定的向量，根据一个索引向量为特定的元素增加 1，其中需要特别小心的是索引向量中可能存在重复的索引。\n",
    "\n",
    "Z = np.ones(10)\n",
    "I = np.random.randint(0,len(Z),20)\n",
    "\n",
    "print(Z)\n",
    "print(I)\n",
    "np.add.at(Z, I, 1)\n",
    "print(Z)"
   ]
  },
  {
   "cell_type": "code",
   "execution_count": null,
   "metadata": {},
   "outputs": [],
   "source": [
    "# 65、如何根据一个索引列表（I），将向量 X 中的元素累加到一个数组 F 中？\n"
   ]
  },
  {
   "cell_type": "markdown",
   "metadata": {},
   "source": [
    "假设有以下数据：\n",
    "```python\n",
    "import numpy as np\n",
    "\n",
    "X = np.array([1, 2, 3, 4])  # 要累加的值\n",
    "I = np.array([0, 1, 1, 3])  # 每个值对应的目标位置索引\n",
    "F = np.array([0, 0, 0, 0])  # 目标数组，初始值为 0\n",
    "```\n",
    "现在，我们希望将 `X` 中的每个元素根据 `I` 指定的位置累加到 `F` 中：\n",
    "- `X[0]`（即 1）累加到 `F[I[0]]`，即 `F[0]`，结果是 `F[0] = 1`。\n",
    "- `X[1]`（即 2）累加到 `F[I[1]]`，即 `F[1]`，结果是 `F[1] = 2`。\n",
    "- `X[2]`（即 3）累加到 `F[I[2]]`，即 `F[1]`，结果是 `F[1] = 2 + 3 = 5`。\n",
    "- `X[3]`（即 4）累加到 `F[I[3]]`，即 `F[3]`，结果是 `F[3] = 4`。"
   ]
  },
  {
   "cell_type": "code",
   "execution_count": 40,
   "metadata": {},
   "outputs": [
    {
     "name": "stdout",
     "output_type": "stream",
     "text": [
      "[0. 7. 0. 6. 5. 0. 0. 0. 0. 3.]\n"
     ]
    }
   ],
   "source": [
    "# 解法\n",
    "\n",
    "X = [1,2,3,4,5,6]\n",
    "I = [1,3,9,3,4,1]\n",
    "F = np.bincount(I,X)\n",
    "print(F)"
   ]
  },
  {
   "cell_type": "code",
   "execution_count": 44,
   "metadata": {},
   "outputs": [
    {
     "name": "stdout",
     "output_type": "stream",
     "text": [
      "64\n"
     ]
    }
   ],
   "source": [
    "# 66、计算一幅给定的 RGB 图像中有多少种唯一的颜色。\n",
    "\n",
    "w, h = 256, 256\n",
    "I = np.random.randint(0, 4, (h, w, 3)).astype(np.ubyte)\n",
    "\n",
    "colors = np.unique(I.reshape(-1, 3), axis=0) # -1 表示让 numpy 自动计算行数，因此这里的重塑将产生一个形状为 (65536, 3) 的二维数组，因为 256 * 256 = 65536。\n",
    "n = len(colors)\n",
    "print(n)"
   ]
  },
  {
   "cell_type": "code",
   "execution_count": 45,
   "metadata": {},
   "outputs": [
    {
     "name": "stdout",
     "output_type": "stream",
     "text": [
      "[[67 66 55 63]\n",
      " [50 43 44 53]\n",
      " [65 45 55 53]]\n"
     ]
    }
   ],
   "source": [
    "# 67、假设你有一个四维数组 A，形状为 (a, b, c, d)。目标是对这个数组的最后两个轴（即 axis=-2 和 axis=-1，分别对应 c 和 d 轴）进行求和。换句话说，是要计算整个数组在最后两个维度上的总和，得到一个形状为 (a, b) 的结果。\n",
    "\n",
    "A = np.random.randint(0,10,(3,4,3,4))\n",
    "sum = A.sum(axis=(-2,-1))\n",
    "print(sum)\n",
    "\n"
   ]
  },
  {
   "cell_type": "code",
   "execution_count": 47,
   "metadata": {},
   "outputs": [
    {
     "name": "stdout",
     "output_type": "stream",
     "text": [
      "[0.43290224 0.52156249 0.34613582 0.54508032 0.61130207 0.82630724\n",
      " 0.57035668 0.61554317 0.53236969 0.47608324]\n",
      "0    0.432902\n",
      "1    0.521562\n",
      "2    0.346136\n",
      "3    0.545080\n",
      "4    0.611302\n",
      "5    0.826307\n",
      "6    0.570357\n",
      "7    0.615543\n",
      "8    0.532370\n",
      "9    0.476083\n",
      "dtype: float64\n"
     ]
    }
   ],
   "source": [
    "# 68、如何根据一个索引向量将一维向量 D 分割成不同的子集，并计算每个子集的均值\n",
    "\n",
    "D = np.random.uniform(0,1,100)\n",
    "S = np.random.randint(0,10,100)\n",
    "\n",
    "D_sums = np.bincount(S, weights=D)\n",
    "D_counts = np.bincount(S)\n",
    "D_means = D_sums / D_counts\n",
    "print(D_means)\n",
    "\n",
    "# pandas  6666\n",
    "\n",
    "import pandas as pd\n",
    "print(pd.Series(D).groupby(S).mean())"
   ]
  },
  {
   "cell_type": "code",
   "execution_count": 50,
   "metadata": {},
   "outputs": [
    {
     "data": {
      "text/plain": [
       "array([0.95382526, 0.67895192, 1.55691447, 1.51715501, 1.47011295])"
      ]
     },
     "execution_count": 50,
     "metadata": {},
     "output_type": "execute_result"
    }
   ],
   "source": [
    "# 69、计算两个矩阵点积（dot product）后得到的结果矩阵的对角线元素\n",
    "\n",
    "A = np.random.uniform(0,1,(5,5))\n",
    "B = np.random.uniform(0,1,(5,5))\n",
    "\n",
    "# Slow version\n",
    "np.diag(np.dot(A, B))\n",
    "\n",
    "# Fast version\n",
    "dia = np.sum(A * B.T, axis=1)\n",
    "dia"
   ]
  },
  {
   "cell_type": "code",
   "execution_count": 52,
   "metadata": {},
   "outputs": [
    {
     "name": "stdout",
     "output_type": "stream",
     "text": [
      "[0. 0. 0. 0. 0. 0. 0. 0. 0. 0. 0. 0. 0. 0. 0. 0. 0.]\n",
      "[1. 0. 0. 0. 2. 0. 0. 0. 3. 0. 0. 0. 4. 0. 0. 0. 5.]\n"
     ]
    }
   ],
   "source": [
    "# 70、如何将一个给定的一维向量，例如 [1, 2, 3, 4, 5]，构造出一个新的向量，在每两个相邻的值之间插入3 个连续的零。\n",
    "\n",
    "Z = np.array([1,2,3,4,5])\n",
    "nz = 3\n",
    "Z0 = np.zeros(len(Z) + (len(Z)-1)*(nz))\n",
    "print(Z0)\n",
    "Z0[::nz+1] = Z\n",
    "print(Z0)\n"
   ]
  },
  {
   "cell_type": "code",
   "execution_count": 53,
   "metadata": {},
   "outputs": [
    {
     "name": "stdout",
     "output_type": "stream",
     "text": [
      "[[[2. 2. 2.]\n",
      "  [2. 2. 2.]\n",
      "  [2. 2. 2.]\n",
      "  [2. 2. 2.]\n",
      "  [2. 2. 2.]]\n",
      "\n",
      " [[2. 2. 2.]\n",
      "  [2. 2. 2.]\n",
      "  [2. 2. 2.]\n",
      "  [2. 2. 2.]\n",
      "  [2. 2. 2.]]\n",
      "\n",
      " [[2. 2. 2.]\n",
      "  [2. 2. 2.]\n",
      "  [2. 2. 2.]\n",
      "  [2. 2. 2.]\n",
      "  [2. 2. 2.]]\n",
      "\n",
      " [[2. 2. 2.]\n",
      "  [2. 2. 2.]\n",
      "  [2. 2. 2.]\n",
      "  [2. 2. 2.]\n",
      "  [2. 2. 2.]]\n",
      "\n",
      " [[2. 2. 2.]\n",
      "  [2. 2. 2.]\n",
      "  [2. 2. 2.]\n",
      "  [2. 2. 2.]\n",
      "  [2. 2. 2.]]]\n"
     ]
    }
   ],
   "source": [
    "# 71、如何将一个三维数组与一个二维数组进行元素相乘，它们的形状分别为 (5, 5, 3) 和 (5, 5)\n",
    "\n",
    "A = np.ones((5,5,3))\n",
    "B = 2*np.ones((5,5))\n",
    "print(A * B[:,:,None]) # 注意哈553 要配 55N才好，因为 * 是哈达玛积，而np.dot才是点积，因此这里加了一个轴把55变为551"
   ]
  },
  {
   "cell_type": "code",
   "execution_count": 55,
   "metadata": {},
   "outputs": [
    {
     "name": "stdout",
     "output_type": "stream",
     "text": [
      "[[ 0  1  2  3  4]\n",
      " [ 5  6  7  8  9]\n",
      " [10 11 12 13 14]\n",
      " [15 16 17 18 19]\n",
      " [20 21 22 23 24]]\n",
      "[[ 5  6  7  8  9]\n",
      " [ 0  1  2  3  4]\n",
      " [10 11 12 13 14]\n",
      " [15 16 17 18 19]\n",
      " [20 21 22 23 24]]\n"
     ]
    }
   ],
   "source": [
    "# 72、怎么交换一个数组中的两行\n",
    "\n",
    "A = np.arange(25).reshape(5,5)\n",
    "print(A)\n",
    "\n",
    "A[[0,1]] = A[[1,0]] # A[[0,1]]直接就是A的第0行跟第1行哇\n",
    "print(A)"
   ]
  },
  {
   "cell_type": "code",
   "execution_count": 56,
   "metadata": {},
   "outputs": [],
   "source": [
    "# 73、如何从给定的10 个三角形描述中找到组成这些三角形的所有唯一的线段（边），并去除重复的线段。 \n",
    "\n"
   ]
  },
  {
   "cell_type": "markdown",
   "metadata": {},
   "source": [
    "假设我们有 4 个三角形，顶点编号为 0, 1, 2, 3：\n",
    "\n",
    "三角形 1：(0, 1, 2)\n",
    "三角形 2：(1, 2, 3)\n",
    "三角形 3：(0, 2, 3)\n",
    "三角形 4：(0, 1, 3)\n",
    "每个三角形有 3 条边：\n",
    "\n",
    "三角形 1：(0, 1), (1, 2), (2, 0)\n",
    "三角形 2：(1, 2), (2, 3), (3, 1)\n",
    "三角形 3：(0, 2), (2, 3), (3, 0)\n",
    "三角形 4：(0, 1), (1, 3), (3, 0)\n",
    "现在需要找到这些三角形中的唯一边集合，即去除重复的边。最终的唯一边集合是：\n",
    "\n",
    "(0, 1)\n",
    "(0, 2)\n",
    "(0, 3)\n",
    "(1, 2)\n",
    "(1, 3)\n",
    "(2, 3)"
   ]
  },
  {
   "cell_type": "code",
   "execution_count": 57,
   "metadata": {},
   "outputs": [
    {
     "name": "stdout",
     "output_type": "stream",
     "text": [
      "[(12, 44) (12, 59) (12, 64) (12, 92) (19, 90) (19, 91) (22, 24) (22, 49)\n",
      " (24, 49) (27, 58) (27, 71) (28, 48) (28, 60) (31, 69) (31, 73) (44, 59)\n",
      " (48, 60) (49, 93) (49, 94) (58, 71) (64, 92) (69, 73) (69, 85) (69, 95)\n",
      " (72, 89) (72, 94) (85, 95) (89, 94) (90, 91) (93, 94)]\n"
     ]
    }
   ],
   "source": [
    "faces = np.random.randint(0,100,(10,3))\n",
    "F = np.roll(faces.repeat(2,axis=1),-1,axis=1)\n",
    "F = F.reshape(len(F)*3,2)\n",
    "F = np.sort(F,axis=1)\n",
    "G = F.view( dtype=[('p0',F.dtype),('p1',F.dtype)] )\n",
    "G = np.unique(G)\n",
    "print(G)"
   ]
  },
  {
   "cell_type": "code",
   "execution_count": 58,
   "metadata": {},
   "outputs": [
    {
     "data": {
      "text/plain": [
       "array([1, 1, 2, 3, 4, 4, 6])"
      ]
     },
     "execution_count": 58,
     "metadata": {},
     "output_type": "execute_result"
    }
   ],
   "source": [
    "# 74、 给定一个对应于计数的已排序数组 C，如何生成一个数组 A，使得 `np.bincount(A) == C`？\n",
    "\n",
    "C = np.bincount([1, 1, 2, 3, 4, 4, 6])\n",
    "A = np.repeat(np.arange(len(C)), C) # 创建一个数组 A，其中每个索引（从 0 到 len(C)-1）根据数组 C 中的计数进行重复。例如，如果 C[2] = 3，那么在 A 中会出现数字 2 三次。这使得 A 的每个值的频率正好对应于 C。\n",
    "A"
   ]
  },
  {
   "cell_type": "code",
   "execution_count": 64,
   "metadata": {},
   "outputs": [
    {
     "name": "stdout",
     "output_type": "stream",
     "text": [
      "[ 0  1  2  3  4  5  6  7  8  9 10 11 12 13 14 15 16 17 18 19]\n",
      "[ 1.  2.  3.  4.  5.  6.  7.  8.  9. 10. 11. 12. 13. 14. 15. 16. 17. 18.]\n",
      "[ 1.  2.  3.  4.  5.  6.  7.  8.  9. 10. 11. 12. 13. 14. 15. 16. 17. 18.]\n"
     ]
    }
   ],
   "source": [
    "# 75、如何在一个数组上使用滑动窗口计算平均值？\n",
    "\n",
    "def moving_average(a, n=3) :\n",
    "    ret = np.cumsum(a, dtype=float)\n",
    "    ret[n:] = ret[n:] - ret[:-n]\n",
    "    return ret[n - 1:] / n\n",
    "Z = np.arange(20)\n",
    "print(Z)\n",
    "print(moving_average(Z, n=3)) # 返回的是每3个元素的平均值\n",
    "\n",
    "\n",
    "# 调库的方法\n",
    "from numpy.lib.stride_tricks import sliding_window_view\n",
    "\n",
    "Z = np.arange(20)\n",
    "print(sliding_window_view(Z, window_shape=3).mean(axis=1))\n",
    "\n"
   ]
  },
  {
   "cell_type": "code",
   "execution_count": 67,
   "metadata": {},
   "outputs": [
    {
     "name": "stdout",
     "output_type": "stream",
     "text": [
      "[[0 1 2]\n",
      " [1 2 3]\n",
      " [2 3 4]\n",
      " [3 4 5]\n",
      " [4 5 6]\n",
      " [5 6 7]\n",
      " [6 7 8]\n",
      " [7 8 9]]\n",
      "[[0 1 2]\n",
      " [1 2 3]\n",
      " [2 3 4]\n",
      " [3 4 5]\n",
      " [4 5 6]\n",
      " [5 6 7]\n",
      " [6 7 8]\n",
      " [7 8 9]]\n"
     ]
    }
   ],
   "source": [
    "# 76、考虑一个一维数组 Z，构建一个二维数组，使得第一行是 (Z[0], Z[1], Z[2])，每一行向右移动一个元素，最后一行应为 (Z[-3], Z[-2], Z[-1])。\n",
    "\n",
    "from numpy.lib import stride_tricks\n",
    "\n",
    "def rolling(a, window):\n",
    "    shape = (a.size - window + 1, window)\n",
    "    strides = (a.strides[0], a.strides[0])\n",
    "    return stride_tricks.as_strided(a, shape=shape, strides=strides)\n",
    "\n",
    "Z = rolling(np.arange(10), 3)\n",
    "print(Z)\n",
    "\n",
    "\n",
    "# 另一个\n",
    "from numpy.lib.stride_tricks import sliding_window_view\n",
    "Z = np.arange(10)\n",
    "print(sliding_window_view(Z, window_shape=3))\n"
   ]
  },
  {
   "cell_type": "code",
   "execution_count": 68,
   "metadata": {},
   "outputs": [
    {
     "data": {
      "text/plain": [
       "array([ 0.51643799, -0.37581198,  0.78937346, -0.36662083,  0.01137241,\n",
       "       -0.81820022, -0.50676149,  0.49305063, -0.6029597 ,  0.0056058 ,\n",
       "        0.29968659,  0.45961067, -0.13885545, -0.33144093, -0.55242703,\n",
       "        0.2839157 , -0.66560858,  0.12720296, -0.2811317 ,  0.68386715,\n",
       "        0.42321088, -0.3670721 , -0.65367776, -0.49547847,  0.71612649,\n",
       "       -0.93620121, -0.20405823, -0.98876784,  0.43796143,  0.05407911,\n",
       "        0.45715087, -0.37906409, -0.50014719,  0.89599665, -0.05843135,\n",
       "       -0.34335484,  0.76840805, -0.25365683,  0.16190221,  0.72865991,\n",
       "        0.87252962,  0.42156732, -0.3057802 , -0.74509214,  0.59019093,\n",
       "        0.55313257, -0.44828848,  0.87417625, -0.61080593, -0.04858582,\n",
       "       -0.99734858, -0.46816015, -0.59483691,  0.3479269 ,  0.14765093,\n",
       "        0.23528979,  0.53533893, -0.12449717, -0.43514352, -0.975604  ,\n",
       "        0.79063613, -0.75670081, -0.99587325,  0.01218612, -0.78198736,\n",
       "        0.04125718,  0.135826  , -0.95791586, -0.57851729, -0.21773078,\n",
       "       -0.51167318, -0.22764664, -0.70138214, -0.43066628, -0.76121404,\n",
       "        0.92447949,  0.43203063,  0.13037957,  0.54233165,  0.2927598 ,\n",
       "        0.53735325,  0.9066488 ,  0.33572026,  0.61011434, -0.74457281,\n",
       "       -0.41595356, -0.96464462,  0.55997986,  0.22453569,  0.09963871,\n",
       "       -0.68027674, -0.46052903,  0.26693366,  0.0474987 , -0.79981759,\n",
       "       -0.91543524,  0.86344094,  0.56151816,  0.46062945,  0.79600704])"
      ]
     },
     "execution_count": 68,
     "metadata": {},
     "output_type": "execute_result"
    }
   ],
   "source": [
    "# 77、如何就地取反一个布尔值，或者改变一个浮点数的符号？\n",
    "\n",
    "Z = np.random.randint(0, 2, 100)\n",
    "np.logical_not(Z, out=Z)\n",
    "\n",
    "Z = np.random.uniform(-1.0, 1.0, 100)\n",
    "np.negative(Z, out=Z)"
   ]
  },
  {
   "cell_type": "code",
   "execution_count": 69,
   "metadata": {},
   "outputs": [
    {
     "name": "stdout",
     "output_type": "stream",
     "text": [
      "[14.17506501  1.58004619  3.55689012  6.68778989  0.34042695 11.17636297\n",
      "  9.97711306  5.38450755 13.75107503  1.71438609]\n"
     ]
    }
   ],
   "source": [
    "# 78、考虑两个点集 P0 和 P1 描述的直线（二维），以及一个点 p，如何计算点 p 到每条直线 (P0[i], P1[i]) 的距离？\n",
    "\n",
    "def distance(P0, P1, p):\n",
    "    T = P1 - P0\n",
    "    L = (T ** 2).sum(axis=1)\n",
    "    U = -((P0[:,0]-p[...,0])*T[:,0] + (P0[:,1]-p[...,1])*T[:,1]) / L\n",
    "    U = U.reshape(len(U),1)\n",
    "    D = P0 + U*T - p\n",
    "    return np.sqrt((D**2).sum(axis=1))\n",
    "\n",
    "P0 = np.random.uniform(-10,10,(10,2))\n",
    "P1 = np.random.uniform(-10,10,(10,2))\n",
    "p  = np.random.uniform(-10,10,( 1,2))\n",
    "print(distance(P0, P1, p))"
   ]
  },
  {
   "cell_type": "code",
   "execution_count": 70,
   "metadata": {},
   "outputs": [
    {
     "data": {
      "image/png": "[encoded data removed]",
      "text/plain": [
       "<Figure size 640x480 with 1 Axes>"
      ]
     },
     "metadata": {},
     "output_type": "display_data"
    }
   ],
   "source": [
    "import numpy as np\n",
    "import matplotlib.pyplot as plt\n",
    "\n",
    "def distance(P0, P1, p):\n",
    "    T = P1 - P0\n",
    "    L = (T ** 2).sum(axis=1)\n",
    "    U = -((P0[:,0]-p[0])*T[:,0] + (P0[:,1]-p[1])*T[:,1]) / L\n",
    "    U = U.reshape(len(U),1)\n",
    "    D = P0 + U*T - p\n",
    "    return np.sqrt((D**2).sum(axis=1))\n",
    "\n",
    "# 生成数据\n",
    "P0 = np.array([[0, 0], [2, 2], [4, 0]])\n",
    "P1 = np.array([[1, 1], [3, 3], [5, 1]])\n",
    "p = np.array([2, 1])\n",
    "\n",
    "# 计算距离\n",
    "dists = distance(P0, P1, p)\n",
    "\n",
    "# 绘图\n",
    "plt.figure()\n",
    "for i in range(len(P0)):\n",
    "    plt.plot([P0[i][0], P1[i][0]], [P0[i][1], P1[i][1]], 'b-')  # 线段\n",
    "    plt.plot([p[0], (P0[i][0] + P1[i][0]) / 2], [p[1], (P0[i][1] + P1[i][1]) / 2], 'r--')  # 垂线\n",
    "plt.plot(p[0], p[1], 'ro')  # 点 p\n",
    "plt.xlim(-1, 6)\n",
    "plt.ylim(-1, 4)\n",
    "plt.title('Distance from Point to Lines')\n",
    "plt.grid()\n",
    "plt.show()\n"
   ]
  },
  {
   "cell_type": "code",
   "execution_count": 71,
   "metadata": {},
   "outputs": [
    {
     "name": "stdout",
     "output_type": "stream",
     "text": [
      "[[ 0.14952424  5.39960381  6.72242252  0.63709689  1.69156177  1.21830557\n",
      "   3.35540366  7.27021753  0.52887868  2.7362872 ]\n",
      " [ 4.36454036  1.29957392  3.46307407  2.3707742   1.89922871  3.09059552\n",
      "   7.18118129  3.59327593  4.64310334  1.11199868]\n",
      " [ 1.10992652  7.43421634 11.50367774  7.88185464  2.91483322  0.54178983\n",
      "   0.12218437 10.98946932  1.42473833  4.58182762]\n",
      " [ 5.50996976  0.03834841  1.52504416  0.69637164  1.30533529  3.71870951\n",
      "   8.79850348  1.86977547  5.96132475  2.8273687 ]\n",
      " [ 1.59166296  5.05299008 10.57473322 11.35839146  6.94683951  2.8184182\n",
      "   1.93744115  9.43125477  0.99155798  8.00064512]\n",
      " [11.49448829  6.29962112  5.17209025  1.06158074  3.31658697  8.7689883\n",
      "  15.36643244  4.77518948 12.19642099  4.76273925]\n",
      " [ 0.3232741   4.99800854  3.03621033  7.81856731  8.13831285  3.7917558\n",
      "   5.15053433  4.8938256   0.83817208 11.22296421]\n",
      " [ 7.38978341  0.77601408  5.20203655 11.93027564 10.55991941  8.2870036\n",
      "   7.68825119  3.76128619  6.82018184  8.41255698]\n",
      " [10.87115245  5.82671609  5.31761685  2.59743691  1.84949034  7.80805604\n",
      "  15.14514764  4.66335373 11.70736791  6.28912205]\n",
      " [ 9.1025448   2.84256524  1.99389759  8.79407395  9.20915166  9.06620601\n",
      "  10.27692124  0.97062525  8.8503296   5.21178294]]\n"
     ]
    }
   ],
   "source": [
    "# 79、考虑两个点集 P0 和 P1 描述的直线（二维），以及一个点集 P，如何计算每个点 j (P[j]) 到每条直线 i (P0[i], P1[i]) 的距离？\n",
    "\n",
    "P0 = np.random.uniform(-10, 10, (10,2))\n",
    "P1 = np.random.uniform(-10,10,(10,2))\n",
    "p = np.random.uniform(-10, 10, (10,2))\n",
    "print(np.array([distance(P0,P1,p_i) for p_i in p])) # 基于上面的单点到所有直线的距离计算函数哈"
   ]
  },
  {
   "cell_type": "code",
   "execution_count": 77,
   "metadata": {},
   "outputs": [
    {
     "name": "stdout",
     "output_type": "stream",
     "text": [
      "[[7 0 6 3 4 4 6 6 0 1]\n",
      " [4 6 7 6 4 3 3 4 0 6]\n",
      " [9 3 0 8 6 7 3 7 8 9]\n",
      " [7 2 2 8 0 3 1 1 0 5]\n",
      " [5 4 1 8 2 4 4 9 7 6]\n",
      " [0 0 2 1 0 9 9 5 9 1]\n",
      " [6 2 7 3 3 8 3 1 2 1]\n",
      " [7 3 1 7 3 8 8 3 6 4]\n",
      " [9 9 6 1 8 5 0 0 7 8]\n",
      " [2 6 2 3 9 5 2 6 2 7]]\n",
      "[[0 0 0 0 0]\n",
      " [0 7 0 6 3]\n",
      " [0 4 6 7 6]\n",
      " [0 9 3 0 8]\n",
      " [0 7 2 2 8]]\n"
     ]
    }
   ],
   "source": [
    "# 80、考虑一个任意数组，编写一个函数，提取一个固定形状的子部分，并以给定元素为中心（在必要时用 `fill` 值进行填充）。\n",
    "\n",
    "# 比如一个二维矩阵。现在你要从这个数组中选出一个小矩形（子数组），这个小矩形的中心点是你指定的某个元素。如果你有一个 5x5 的数组，你想要提取一个 3x3 的子数组，中心是数组中某个特定的元素。假设这个元素在数组的边缘，可能会导致提取的子数组部分超出原数组的边界。在这种情况下，你需要用一个指定的填充值（比如 0 或其他数值）来填充超出部分。\n",
    "\n",
    "import numpy as np\n",
    "\n",
    "Z = np.random.randint(0, 10, (10, 10))\n",
    "shape = (5, 5)\n",
    "fill = 0\n",
    "position = (1, 1)\n",
    "\n",
    "R = np.ones(shape, dtype=Z.dtype) * fill\n",
    "P = np.array(position).astype(int)\n",
    "Rs = np.array(shape).astype(int)\n",
    "Zs = np.array(Z.shape).astype(int)\n",
    "\n",
    "R_start = np.zeros((len(shape),)).astype(int)\n",
    "R_stop = np.array(shape).astype(int)\n",
    "Z_start = (P - Rs // 2)\n",
    "Z_stop = (P + Rs // 2) + Rs % 2\n",
    "\n",
    "R_start = (R_start - np.minimum(Z_start, 0)).tolist()\n",
    "Z_start = (np.maximum(Z_start, 0)).tolist()\n",
    "R_stop = np.maximum(R_start, (R_stop - np.maximum(Z_stop - Zs, 0))).tolist()\n",
    "Z_stop = (np.minimum(Z_stop, Zs)).tolist()\n",
    "\n",
    "r = [slice(start, stop) for start, stop in zip(R_start, R_stop)]\n",
    "z = [slice(start, stop) for start, stop in zip(Z_start, Z_stop)]\n",
    "\n",
    "# Ensure R[r] and Z[z] are accessed correctly\n",
    "R[tuple(r)] = Z[tuple(z)]\n",
    "print(Z)\n",
    "print(R)\n"
   ]
  },
  {
   "cell_type": "code",
   "execution_count": 78,
   "metadata": {},
   "outputs": [
    {
     "name": "stdout",
     "output_type": "stream",
     "text": [
      "[[ 1  2  3  4]\n",
      " [ 2  3  4  5]\n",
      " [ 3  4  5  6]\n",
      " [ 4  5  6  7]\n",
      " [ 5  6  7  8]\n",
      " [ 6  7  8  9]\n",
      " [ 7  8  9 10]\n",
      " [ 8  9 10 11]\n",
      " [ 9 10 11 12]\n",
      " [10 11 12 13]\n",
      " [11 12 13 14]]\n"
     ]
    }
   ],
   "source": [
    "# 81、考虑一个数组 Z = [1, 2, 3, 4, 5, 6, 7, 8, 9, 10, 11, 12, 13, 14]，如何生成一个数组 R = [[1, 2, 3, 4], [2, 3, 4, 5], [3, 4, 5, 6], ..., [11, 12, 13, 14]]？\n",
    "\n",
    "Z = np.arange(1, 15, dtype=np.uint32)\n",
    "print(sliding_window_view(Z, window_shape=4))"
   ]
  },
  {
   "cell_type": "code",
   "execution_count": 80,
   "metadata": {},
   "outputs": [
    {
     "name": "stdout",
     "output_type": "stream",
     "text": [
      "10\n",
      "10\n"
     ]
    }
   ],
   "source": [
    "# 82、怎么计算一个矩阵的秩？\n",
    "\n",
    "\n",
    "Z = np.random.uniform(0,1,(10,10))\n",
    "\n",
    "U, S, V = np.linalg.svd(Z)\n",
    "rank = np.sum(S > 1e-10)\n",
    "print(rank)\n",
    "\n",
    "\n",
    "# 或者\n",
    "rank = np.linalg.matrix_rank(Z)\n",
    "print(rank)\n"
   ]
  },
  {
   "cell_type": "code",
   "execution_count": 82,
   "metadata": {},
   "outputs": [
    {
     "name": "stdout",
     "output_type": "stream",
     "text": [
      "[4 6 1 4 7 7 0 1 5 3 1 1 7 0 3 0 1 3 6 9 0 3 5 8 6 7 5 0 7 9 5 2 7 3 6 1 0\n",
      " 8 2 9 4 3 9 6 9 2 8 9 5 2]\n",
      "0\n"
     ]
    }
   ],
   "source": [
    "# 83、怎么找到一个数组中频率出现最高的值？\n",
    "\n",
    "Z = np.random.randint(0, 10, 50)\n",
    "\n",
    "print(Z)\n",
    "print(np.bincount(Z).argmax())"
   ]
  },
  {
   "cell_type": "code",
   "execution_count": 83,
   "metadata": {},
   "outputs": [
    {
     "name": "stdout",
     "output_type": "stream",
     "text": [
      "[[[[1 0 4]\n",
      "   [3 0 1]\n",
      "   [3 1 1]]\n",
      "\n",
      "  [[0 4 1]\n",
      "   [0 1 1]\n",
      "   [1 1 4]]\n",
      "\n",
      "  [[4 1 3]\n",
      "   [1 1 3]\n",
      "   [1 4 1]]\n",
      "\n",
      "  [[1 3 0]\n",
      "   [1 3 3]\n",
      "   [4 1 2]]\n",
      "\n",
      "  [[3 0 2]\n",
      "   [3 3 2]\n",
      "   [1 2 1]]\n",
      "\n",
      "  [[0 2 2]\n",
      "   [3 2 2]\n",
      "   [2 1 3]]\n",
      "\n",
      "  [[2 2 4]\n",
      "   [2 2 3]\n",
      "   [1 3 1]]\n",
      "\n",
      "  [[2 4 4]\n",
      "   [2 3 3]\n",
      "   [3 1 3]]]\n",
      "\n",
      "\n",
      " [[[3 0 1]\n",
      "   [3 1 1]\n",
      "   [3 2 0]]\n",
      "\n",
      "  [[0 1 1]\n",
      "   [1 1 4]\n",
      "   [2 0 1]]\n",
      "\n",
      "  [[1 1 3]\n",
      "   [1 4 1]\n",
      "   [0 1 2]]\n",
      "\n",
      "  [[1 3 3]\n",
      "   [4 1 2]\n",
      "   [1 2 4]]\n",
      "\n",
      "  [[3 3 2]\n",
      "   [1 2 1]\n",
      "   [2 4 1]]\n",
      "\n",
      "  [[3 2 2]\n",
      "   [2 1 3]\n",
      "   [4 1 3]]\n",
      "\n",
      "  [[2 2 3]\n",
      "   [1 3 1]\n",
      "   [1 3 4]]\n",
      "\n",
      "  [[2 3 3]\n",
      "   [3 1 3]\n",
      "   [3 4 1]]]\n",
      "\n",
      "\n",
      " [[[3 1 1]\n",
      "   [3 2 0]\n",
      "   [0 2 4]]\n",
      "\n",
      "  [[1 1 4]\n",
      "   [2 0 1]\n",
      "   [2 4 2]]\n",
      "\n",
      "  [[1 4 1]\n",
      "   [0 1 2]\n",
      "   [4 2 4]]\n",
      "\n",
      "  [[4 1 2]\n",
      "   [1 2 4]\n",
      "   [2 4 2]]\n",
      "\n",
      "  [[1 2 1]\n",
      "   [2 4 1]\n",
      "   [4 2 4]]\n",
      "\n",
      "  [[2 1 3]\n",
      "   [4 1 3]\n",
      "   [2 4 2]]\n",
      "\n",
      "  [[1 3 1]\n",
      "   [1 3 4]\n",
      "   [4 2 1]]\n",
      "\n",
      "  [[3 1 3]\n",
      "   [3 4 1]\n",
      "   [2 1 1]]]\n",
      "\n",
      "\n",
      " [[[3 2 0]\n",
      "   [0 2 4]\n",
      "   [2 1 2]]\n",
      "\n",
      "  [[2 0 1]\n",
      "   [2 4 2]\n",
      "   [1 2 0]]\n",
      "\n",
      "  [[0 1 2]\n",
      "   [4 2 4]\n",
      "   [2 0 3]]\n",
      "\n",
      "  [[1 2 4]\n",
      "   [2 4 2]\n",
      "   [0 3 4]]\n",
      "\n",
      "  [[2 4 1]\n",
      "   [4 2 4]\n",
      "   [3 4 1]]\n",
      "\n",
      "  [[4 1 3]\n",
      "   [2 4 2]\n",
      "   [4 1 1]]\n",
      "\n",
      "  [[1 3 4]\n",
      "   [4 2 1]\n",
      "   [1 1 4]]\n",
      "\n",
      "  [[3 4 1]\n",
      "   [2 1 1]\n",
      "   [1 4 0]]]\n",
      "\n",
      "\n",
      " [[[0 2 4]\n",
      "   [2 1 2]\n",
      "   [2 4 1]]\n",
      "\n",
      "  [[2 4 2]\n",
      "   [1 2 0]\n",
      "   [4 1 0]]\n",
      "\n",
      "  [[4 2 4]\n",
      "   [2 0 3]\n",
      "   [1 0 2]]\n",
      "\n",
      "  [[2 4 2]\n",
      "   [0 3 4]\n",
      "   [0 2 4]]\n",
      "\n",
      "  [[4 2 4]\n",
      "   [3 4 1]\n",
      "   [2 4 1]]\n",
      "\n",
      "  [[2 4 2]\n",
      "   [4 1 1]\n",
      "   [4 1 4]]\n",
      "\n",
      "  [[4 2 1]\n",
      "   [1 1 4]\n",
      "   [1 4 2]]\n",
      "\n",
      "  [[2 1 1]\n",
      "   [1 4 0]\n",
      "   [4 2 2]]]\n",
      "\n",
      "\n",
      " [[[2 1 2]\n",
      "   [2 4 1]\n",
      "   [2 4 4]]\n",
      "\n",
      "  [[1 2 0]\n",
      "   [4 1 0]\n",
      "   [4 4 3]]\n",
      "\n",
      "  [[2 0 3]\n",
      "   [1 0 2]\n",
      "   [4 3 2]]\n",
      "\n",
      "  [[0 3 4]\n",
      "   [0 2 4]\n",
      "   [3 2 2]]\n",
      "\n",
      "  [[3 4 1]\n",
      "   [2 4 1]\n",
      "   [2 2 4]]\n",
      "\n",
      "  [[4 1 1]\n",
      "   [4 1 4]\n",
      "   [2 4 0]]\n",
      "\n",
      "  [[1 1 4]\n",
      "   [1 4 2]\n",
      "   [4 0 2]]\n",
      "\n",
      "  [[1 4 0]\n",
      "   [4 2 2]\n",
      "   [0 2 3]]]\n",
      "\n",
      "\n",
      " [[[2 4 1]\n",
      "   [2 4 4]\n",
      "   [1 3 4]]\n",
      "\n",
      "  [[4 1 0]\n",
      "   [4 4 3]\n",
      "   [3 4 0]]\n",
      "\n",
      "  [[1 0 2]\n",
      "   [4 3 2]\n",
      "   [4 0 1]]\n",
      "\n",
      "  [[0 2 4]\n",
      "   [3 2 2]\n",
      "   [0 1 1]]\n",
      "\n",
      "  [[2 4 1]\n",
      "   [2 2 4]\n",
      "   [1 1 3]]\n",
      "\n",
      "  [[4 1 4]\n",
      "   [2 4 0]\n",
      "   [1 3 4]]\n",
      "\n",
      "  [[1 4 2]\n",
      "   [4 0 2]\n",
      "   [3 4 4]]\n",
      "\n",
      "  [[4 2 2]\n",
      "   [0 2 3]\n",
      "   [4 4 0]]]\n",
      "\n",
      "\n",
      " [[[2 4 4]\n",
      "   [1 3 4]\n",
      "   [1 0 3]]\n",
      "\n",
      "  [[4 4 3]\n",
      "   [3 4 0]\n",
      "   [0 3 0]]\n",
      "\n",
      "  [[4 3 2]\n",
      "   [4 0 1]\n",
      "   [3 0 1]]\n",
      "\n",
      "  [[3 2 2]\n",
      "   [0 1 1]\n",
      "   [0 1 2]]\n",
      "\n",
      "  [[2 2 4]\n",
      "   [1 1 3]\n",
      "   [1 2 1]]\n",
      "\n",
      "  [[2 4 0]\n",
      "   [1 3 4]\n",
      "   [2 1 3]]\n",
      "\n",
      "  [[4 0 2]\n",
      "   [3 4 4]\n",
      "   [1 3 2]]\n",
      "\n",
      "  [[0 2 3]\n",
      "   [4 4 0]\n",
      "   [3 2 3]]]]\n"
     ]
    }
   ],
   "source": [
    "# 84、从一个随机的 10x10 矩阵中提取所有连续的 3x3 块。\n",
    "\n",
    "Z = np.random.randint(0,5,(10,10))\n",
    "n = 3\n",
    "i = 1 + (Z.shape[0]-3)\n",
    "j = 1 + (Z.shape[1]-3)\n",
    "C = stride_tricks.as_strided(Z, shape=(i, j, n, n), strides=Z.strides + Z.strides)\n",
    "print(C)\n",
    "\n",
    "# 内置api方法\n",
    "Z = np.random.randint(0,5,(10,10))\n",
    "print(sliding_window_view(Z, window_shape=(3, 3)))"
   ]
  },
  {
   "cell_type": "code",
   "execution_count": 84,
   "metadata": {},
   "outputs": [
    {
     "name": "stdout",
     "output_type": "stream",
     "text": [
      "[[ 0 11 14 10  9]\n",
      " [11  7 14 16  5]\n",
      " [14 14  5 42  9]\n",
      " [10 16 42  2  8]\n",
      " [ 9  5  9  8  7]]\n"
     ]
    }
   ],
   "source": [
    "# 85、创建一个二维数组子类，使得 \\( Z[i,j] == Z[j,i] \\)。\n",
    "\n",
    "import numpy as np\n",
    "\n",
    "# 创建一个对称数组的子类\n",
    "class Symetric(np.ndarray):\n",
    "    # 重写 __setitem__ 方法以确保对称性\n",
    "    def __setitem__(self, index, value):\n",
    "        i, j = index  # 解包索引\n",
    "        super(Symetric, self).__setitem__((i, j), value)  # 设置 Z[i,j]\n",
    "        super(Symetric, self).__setitem__((j, i), value)  # 同时设置 Z[j,i]\n",
    "\n",
    "# 创建一个对称数组的工厂函数\n",
    "def symetric(Z):\n",
    "    # 计算 Z 和 Z 的转置之和，并减去对角线元素，以确保对称性\n",
    "    return np.asarray(Z + Z.T - np.diag(Z.diagonal())).view(Symetric)\n",
    "\n",
    "# 生成一个随机 5x5 矩阵并转换为对称矩阵\n",
    "S = symetric(np.random.randint(0, 10, (5, 5)))\n",
    "\n",
    "# 设置 S[2,3] 的值，同时自动更新 S[3,2]\n",
    "S[2, 3] = 42\n",
    "\n",
    "# 打印对称矩阵\n",
    "print(S)\n"
   ]
  },
  {
   "cell_type": "code",
   "execution_count": 85,
   "metadata": {},
   "outputs": [
    {
     "name": "stdout",
     "output_type": "stream",
     "text": [
      "[[200.]\n",
      " [200.]\n",
      " [200.]\n",
      " [200.]\n",
      " [200.]\n",
      " [200.]\n",
      " [200.]\n",
      " [200.]\n",
      " [200.]\n",
      " [200.]\n",
      " [200.]\n",
      " [200.]\n",
      " [200.]\n",
      " [200.]\n",
      " [200.]\n",
      " [200.]\n",
      " [200.]\n",
      " [200.]\n",
      " [200.]\n",
      " [200.]]\n"
     ]
    }
   ],
   "source": [
    "# 86、考虑一组形状为 (n, n) 的 p 个矩阵和一组形状为 (n, 1) 的 p 个向量。如何一次性计算 p 个矩阵与对应向量的乘积之和？（结果形状为 (n, 1)）\n",
    "p, n = 10, 20\n",
    "M = np.ones((p,n,n)) # M 是一个形状为 (p, n, n) 的三维数组，表示 p 个 n x n 矩阵\n",
    "V = np.ones((p,n,1)) # V 是一个形状为 (p, n, 1) 的三维数组，表示 p 个 n x 1 的向量\n",
    "S = np.tensordot(M, V, axes=[[0, 2], [0, 1]]) # axes=[[0, 2], [0, 1]] 指定了要进行张量乘积的轴；第一个 [0, 2] 表示在 M 中，沿着第 0 维（p）和第 2 维（n）进行计算；第二个 [0, 1] 表示在 V 中，沿着第 0 维（p）和第 1 维（n）进行计算。\n",
    "print(S)\n"
   ]
  },
  {
   "cell_type": "code",
   "execution_count": 86,
   "metadata": {},
   "outputs": [
    {
     "name": "stdout",
     "output_type": "stream",
     "text": [
      "[[16. 16. 16. 16.]\n",
      " [16. 16. 16. 16.]\n",
      " [16. 16. 16. 16.]\n",
      " [16. 16. 16. 16.]]\n"
     ]
    }
   ],
   "source": [
    "# 87、考虑一个 16x16 的数组，如何计算块和（块大小为 4x4）？\n",
    "\n",
    "Z = np.ones((16, 16))\n",
    "k = 4\n",
    "print(sliding_window_view(Z, window_shape=(k, k))[::k, ::k].sum(axis=(-2, -1)))"
   ]
  },
  {
   "cell_type": "code",
   "execution_count": 87,
   "metadata": {},
   "outputs": [
    {
     "name": "stdout",
     "output_type": "stream",
     "text": [
      "[[0 0 0 ... 0 0 0]\n",
      " [0 0 0 ... 1 1 0]\n",
      " [0 0 0 ... 1 1 0]\n",
      " ...\n",
      " [0 0 0 ... 0 0 0]\n",
      " [0 0 0 ... 0 0 0]\n",
      " [0 0 0 ... 0 0 0]]\n"
     ]
    }
   ],
   "source": [
    "# 88、如何使用 NumPy 数组实现生命游戏？\n",
    "\n",
    "# 生命游戏（Game of Life）是一个零玩家的细胞自动机，由数学家约翰·康威在 1970 年提出。游戏在一个二维网格上进行，每个格子可以是“活”的或“死”的。根据以下规则，活细胞和死细胞的状态会在每个时间步骤中更新：\n",
    "\n",
    "# 1. 如果一个活细胞周围有 2 或 3 个活邻居，它将继续存活；否则，它将死亡。\n",
    "# 2. 如果一个死细胞周围有 3 个活邻居，它将复活；否则，它将保持死亡。\n",
    "\n",
    "# 生命游戏通过这些简单的规则产生复杂的行为和模式。使用 NumPy 数组可以有效地表示和更新网格状态。\n",
    "\n",
    "def iterate(Z):\n",
    "    # Count neighbours\n",
    "    N = (Z[0:-2,0:-2] + Z[0:-2,1:-1] + Z[0:-2,2:] +\n",
    "         Z[1:-1,0:-2]                + Z[1:-1,2:] +\n",
    "         Z[2:  ,0:-2] + Z[2:  ,1:-1] + Z[2:  ,2:])\n",
    "\n",
    "    # Apply rules\n",
    "    birth = (N==3) & (Z[1:-1,1:-1]==0)\n",
    "    survive = ((N==2) | (N==3)) & (Z[1:-1,1:-1]==1)\n",
    "    Z[...] = 0\n",
    "    Z[1:-1,1:-1][birth | survive] = 1\n",
    "    return Z\n",
    "\n",
    "Z = np.random.randint(0,2,(50,50))\n",
    "for i in range(100): Z = iterate(Z)\n",
    "print(Z)"
   ]
  },
  {
   "cell_type": "code",
   "execution_count": 90,
   "metadata": {},
   "outputs": [
    {
     "name": "stdout",
     "output_type": "stream",
     "text": [
      "[9995 9996 9997 9998 9999]\n",
      "[9999 9998 9997 9996 9995]\n"
     ]
    }
   ],
   "source": [
    "# 89、怎么获取一个数组中的n个最大的值？\n",
    "\n",
    "Z = np.arange(10000)\n",
    "np.random.shuffle(Z)\n",
    "n = 5\n",
    "\n",
    "# Slow\n",
    "print (Z[np.argsort(Z)[-n:]])\n",
    "\n",
    "# Fast\n",
    "print (Z[np.argpartition(-Z,n)[:n]])"
   ]
  },
  {
   "cell_type": "code",
   "execution_count": 91,
   "metadata": {},
   "outputs": [
    {
     "name": "stdout",
     "output_type": "stream",
     "text": [
      "[[1 4 6]\n",
      " [1 4 7]\n",
      " [1 5 6]\n",
      " [1 5 7]\n",
      " [2 4 6]\n",
      " [2 4 7]\n",
      " [2 5 6]\n",
      " [2 5 7]\n",
      " [3 4 6]\n",
      " [3 4 7]\n",
      " [3 5 6]\n",
      " [3 5 7]]\n"
     ]
    }
   ],
   "source": [
    "# 90、给定任意数量的向量，构建笛卡尔积（每个项目的所有组合）。\n",
    "\n",
    "# 任意数量向量的笛卡尔积是指将多个向量中的每个元素进行组合，形成一个新集合。具体来说，如果你有几个向量，比如：\n",
    "\n",
    "# - 向量 A = [a1, a2]\n",
    "# - 向量 B = [b1, b2]\n",
    "# - 向量 C = [c1, c2]\n",
    "\n",
    "# 笛卡尔积会生成所有可能的组合，结果将是：\n",
    "\n",
    "# - (a1, b1, c1)\n",
    "# - (a1, b1, c2)\n",
    "# - (a1, b2, c1)\n",
    "# - (a1, b2, c2)\n",
    "# - (a2, b1, c1)\n",
    "# - (a2, b1, c2)\n",
    "# - (a2, b2, c1)\n",
    "# - (a2, b2, c2)\n",
    "\n",
    "# 这个操作可以扩展到任意数量的向量。笛卡尔积的结果是一个包含所有组合的集合。\n",
    "\n",
    "\n",
    "def cartesian(arrays):\n",
    "    arrays = [np.asarray(a) for a in arrays]\n",
    "    shape = (len(x) for x in arrays)\n",
    "\n",
    "    ix = np.indices(shape, dtype=int)\n",
    "    ix = ix.reshape(len(arrays), -1).T\n",
    "\n",
    "    for n, arr in enumerate(arrays):\n",
    "        ix[:, n] = arrays[n][ix[:, n]]\n",
    "\n",
    "    return ix\n",
    "\n",
    "print (cartesian(([1, 2, 3], [4, 5], [6, 7])))"
   ]
  },
  {
   "cell_type": "code",
   "execution_count": 93,
   "metadata": {},
   "outputs": [
    {
     "name": "stdout",
     "output_type": "stream",
     "text": [
      "['Alice' 'Bob']\n",
      "[85 90]\n",
      "[(b'Hello', 2.5, 3) (b'World', 3.6, 2)]\n"
     ]
    }
   ],
   "source": [
    "# 91、如何从常规数组创建一个记录数组？\n",
    "\n",
    "# 记录数组是一种 NumPy 数组，允许你用字段名来访问数据。你可以从一个常规数组创建记录数组，以便更方便地通过字段名获取不同类型的数据。\n",
    "\n",
    "\n",
    "import numpy as np\n",
    "\n",
    "# 创建一个常规数组\n",
    "data = np.array([(1, 'Alice', 85), (2, 'Bob', 90)], dtype=[('id', 'i4'), ('name', 'U10'), ('score', 'i4')])\n",
    "\n",
    "# 访问字段\n",
    "print(data['name'])  # 输出姓名\n",
    "print(data['score'])  # 输出成绩\n",
    "\n",
    "\n",
    "\n",
    "# 解法\n",
    "Z = np.array([(\"Hello\", 2.5, 3),\n",
    "              (\"World\", 3.6, 2)])\n",
    "R = np.core.records.fromarrays(Z.T,\n",
    "                               names='col1, col2, col3',\n",
    "                               formats = 'S8, f8, i8')\n",
    "print(R)\n"
   ]
  },
  {
   "cell_type": "code",
   "execution_count": 94,
   "metadata": {},
   "outputs": [
    {
     "name": "stdout",
     "output_type": "stream",
     "text": [
      "1.15 s ± 30.5 ms per loop (mean ± std. dev. of 7 runs, 1 loop each)\n",
      "340 ms ± 61.7 ms per loop (mean ± std. dev. of 7 runs, 1 loop each)\n",
      "306 ms ± 49.2 ms per loop (mean ± std. dev. of 7 runs, 1 loop each)\n"
     ]
    }
   ],
   "source": [
    "# 92、考虑一个大型向量 Z，使用三种不同的方法计算 Z 的立方（Z 的 3 次方）。\n",
    "\n",
    "x = np.random.rand(int(5e7))\n",
    "\n",
    "%timeit np.power(x,3)\n",
    "%timeit x*x*x\n",
    "%timeit np.einsum('i,i,i->i',x,x,x)"
   ]
  },
  {
   "cell_type": "code",
   "execution_count": 99,
   "metadata": {},
   "outputs": [
    {
     "name": "stdout",
     "output_type": "stream",
     "text": [
      "[2 3 6]\n"
     ]
    }
   ],
   "source": [
    "# 93、考虑两个形状为 (8, 3) 和 (2, 2) 的数组 A 和 B。如何找到 A 中包含 B 每行元素的行，无论 B 中元素的顺序如何？\n",
    "\n",
    "A = np.random.randint(0,5,(8,3))\n",
    "B = np.random.randint(0,5,(2,2))\n",
    "\n",
    "C = (A[..., np.newaxis, np.newaxis] == B)\n",
    "rows = np.where(C.any((3,1)).all(1))[0]\n",
    "print(rows)\n"
   ]
  },
  {
   "cell_type": "code",
   "execution_count": 102,
   "metadata": {},
   "outputs": [
    {
     "name": "stdout",
     "output_type": "stream",
     "text": [
      "[[2 3 2]\n",
      " [1 2 0]\n",
      " [3 2 2]\n",
      " [2 1 0]\n",
      " [1 2 3]\n",
      " [3 0 2]\n",
      " [0 2 0]\n",
      " [3 2 3]\n",
      " [0 4 1]\n",
      " [3 2 3]]\n",
      "[[2 3 2]\n",
      " [1 2 0]\n",
      " [3 2 2]\n",
      " [2 1 0]\n",
      " [1 2 3]\n",
      " [3 0 2]\n",
      " [0 2 0]\n",
      " [3 2 3]\n",
      " [0 4 1]\n",
      " [3 2 3]]\n"
     ]
    }
   ],
   "source": [
    "# 94、考虑一个 10x3 的矩阵，提取值不相等的行（例如 [2, 2, 3]）。\n",
    "\n",
    "# 这个意思是，从一个 10x3 的矩阵中，找出那些行中包含不同的值。例如，如果一行是 [2, 2, 3]，它的值并不全相同，因此需要被提取出来。而像 [1, 1, 1] 这样的行则不符合条件，因为它们的值相同。目标是提取所有包含不相等值的行。\n",
    "\n",
    "Z = np.random.randint(0,5,(10,3))\n",
    "print(Z)\n",
    "\n",
    "E = np.all(Z[:,1:] == Z[:,:-1], axis=1)\n",
    "U = Z[~E]\n",
    "print(U)"
   ]
  },
  {
   "cell_type": "code",
   "execution_count": 103,
   "metadata": {},
   "outputs": [
    {
     "name": "stdout",
     "output_type": "stream",
     "text": [
      "[[0 0 0 0 0 0 0 0]\n",
      " [0 0 0 0 0 0 0 1]\n",
      " [0 0 0 0 0 0 1 0]\n",
      " [0 0 0 0 0 0 1 1]\n",
      " [0 0 0 0 1 1 1 1]\n",
      " [0 0 0 1 0 0 0 0]\n",
      " [0 0 1 0 0 0 0 0]\n",
      " [0 1 0 0 0 0 0 0]\n",
      " [1 0 0 0 0 0 0 0]]\n"
     ]
    }
   ],
   "source": [
    "# 95、将一个整数向量转换为矩阵的二进制表示。\n",
    "\n",
    "I = np.array([0, 1, 2, 3, 15, 16, 32, 64, 128], dtype=np.uint8)\n",
    "print(np.unpackbits(I[:, np.newaxis], axis=1))"
   ]
  },
  {
   "cell_type": "code",
   "execution_count": 106,
   "metadata": {},
   "outputs": [
    {
     "name": "stdout",
     "output_type": "stream",
     "text": [
      "[[1 1 0]\n",
      " [1 1 0]\n",
      " [0 0 0]\n",
      " [0 1 1]\n",
      " [0 1 1]\n",
      " [1 1 1]]\n",
      "[[0 0 0]\n",
      " [0 1 1]\n",
      " [1 1 0]\n",
      " [1 1 1]]\n"
     ]
    }
   ],
   "source": [
    "# 96、给定一个二维数组，如何提取唯一的行？\n",
    "\n",
    "Z = np.random.randint(0,2,(6,3))\n",
    "uZ = np.unique(Z, axis=0)\n",
    "\n",
    "print(Z)\n",
    "print(uZ)\n"
   ]
  },
  {
   "cell_type": "code",
   "execution_count": 107,
   "metadata": {},
   "outputs": [
    {
     "data": {
      "text/plain": [
       "array([[7.79440772e-02, 6.71780578e-02, 3.19985332e-02, 7.76666784e-02,\n",
       "        1.69548850e-01, 6.93669479e-02, 1.47434576e-01, 1.40671177e-01,\n",
       "        1.53205476e-02, 1.24159357e-01],\n",
       "       [4.03468675e-01, 3.47739597e-01, 1.65636778e-01, 4.02032752e-01,\n",
       "        8.77650394e-01, 3.59070138e-01, 7.63178359e-01, 7.28168395e-01,\n",
       "        7.93050771e-02, 6.42696827e-01],\n",
       "       [3.05802008e-01, 2.63563130e-01, 1.25541492e-01, 3.04713675e-01,\n",
       "        6.65199727e-01, 2.72150915e-01, 5.78437655e-01, 5.51902467e-01,\n",
       "        6.01078926e-02, 4.87120791e-01],\n",
       "       [1.22557458e-01, 1.05629219e-01, 5.03137510e-02, 1.22121283e-01,\n",
       "        2.66594678e-01, 1.09070979e-01, 2.31822705e-01, 2.21188095e-01,\n",
       "        2.40896735e-02, 1.95225291e-01],\n",
       "       [2.01478014e-01, 1.73648880e-01, 8.27131601e-02, 2.00760965e-01,\n",
       "        4.38267627e-01, 1.79306952e-01, 3.81104333e-01, 3.63621593e-01,\n",
       "        3.96021561e-02, 3.20940109e-01],\n",
       "       [3.10469541e-01, 2.67585960e-01, 1.27457663e-01, 3.09364596e-01,\n",
       "        6.75352838e-01, 2.76304823e-01, 5.87266495e-01, 5.60326293e-01,\n",
       "        6.10253345e-02, 4.94555838e-01],\n",
       "       [5.70098582e-02, 4.91353761e-02, 2.34043677e-02, 5.68069632e-02,\n",
       "        1.24011423e-01, 5.07363741e-02, 1.07836600e-01, 1.02889715e-01,\n",
       "        1.12057552e-02, 9.08126386e-02],\n",
       "       [4.40297280e-01, 3.79481254e-01, 1.80756096e-01, 4.38730286e-01,\n",
       "        9.57762287e-01, 3.91846046e-01, 8.32841249e-01, 7.94635577e-01,\n",
       "        8.65440414e-02, 7.01362168e-01],\n",
       "       [3.52381993e-03, 3.03709259e-03, 1.44664063e-03, 3.51127885e-03,\n",
       "        7.66523436e-03, 3.13605142e-03, 6.66545702e-03, 6.35968655e-03,\n",
       "        6.92635708e-04, 5.61319387e-03],\n",
       "       [2.02818317e-01, 1.74804054e-01, 8.32633973e-02, 2.02096498e-01,\n",
       "        4.41183138e-01, 1.80499765e-01, 3.83639574e-01, 3.66040532e-01,\n",
       "        3.98656036e-02, 3.23075116e-01]])"
      ]
     },
     "execution_count": 107,
     "metadata": {},
     "output_type": "execute_result"
    }
   ],
   "source": [
    "# 97、考虑两个向量 A 和 B，编写 `einsum` 等效于内积、外积、求和和乘法的函数。\n",
    "\n",
    "# 这句话的意思是，给定两个向量 A 和 B，你需要使用 NumPy 的 `einsum` 函数来实现以下操作：\n",
    "\n",
    "# 1. **内积**：计算 A 和 B 的内积。\n",
    "# 2. **外积**：计算 A 和 B 的外积。\n",
    "# 3. **求和**：对 A 或 B 的元素求和。\n",
    "# 4. **乘法**：逐元素相乘 A 和 B。\n",
    "\n",
    "# 你需要用 `einsum` 来完成这些操作，而不是使用常规的 NumPy 函数。这样可以提高性能并减少代码的复杂性。\n",
    "\n",
    "\n",
    "A = np.random.uniform(0,1,10)\n",
    "B = np.random.uniform(0,1,10)\n",
    "\n",
    "np.einsum('i->', A)       # np.sum(A)\n",
    "np.einsum('i,i->i', A, B) # A * B\n",
    "np.einsum('i,i', A, B)    # np.inner(A, B)\n",
    "np.einsum('i,j->ij', A, B)    # np.outer(A, B)"
   ]
  },
  {
   "cell_type": "code",
   "execution_count": 109,
   "metadata": {},
   "outputs": [
    {
     "data": {
      "text/plain": [
       "(array([ 0.00000000e+00, -3.73131229e-01, -2.59817608e+00, -3.26212050e+00,\n",
       "        -2.18442687e+00, -2.98929946e-02,  2.42923642e+00,  4.54913599e+00,\n",
       "         5.92318348e+00,  6.35117933e+00,  5.82369277e+00,  4.46259540e+00,\n",
       "         2.47320794e+00,  1.09577220e-01, -2.36575300e+00, -4.71261671e+00,\n",
       "        -6.72701769e+00, -8.25541575e+00, -9.18486120e+00, -9.46381505e+00,\n",
       "        -9.11085788e+00, -8.12875279e+00, -6.63306046e+00, -4.69271059e+00,\n",
       "        -2.44736165e+00, -2.05444585e-02,  2.46101146e+00,  4.86841760e+00,\n",
       "         7.08937968e+00,  9.02539126e+00,  1.05948609e+01,  1.17357250e+01,\n",
       "         1.24068974e+01,  1.25885805e+01,  1.22815267e+01,  1.15053927e+01,\n",
       "         1.02963689e+01,  8.70429550e+00,  6.78948686e+00,  4.61716636e+00,\n",
       "         2.25853448e+00, -1.98731680e-01, -2.68040566e+00, -5.11543300e+00,\n",
       "        -7.41973991e+00, -9.53891040e+00, -1.14237629e+01, -1.29919305e+01,\n",
       "        -1.42355069e+01, -1.51243232e+01, -1.56061571e+01, -1.57219415e+01,\n",
       "        -1.54217066e+01, -1.47579136e+01, -1.37255236e+01, -1.23634834e+01,\n",
       "        -1.07024632e+01, -8.78327367e+00, -6.65029558e+00, -4.35514246e+00,\n",
       "        -1.94290275e+00,  5.28038914e-01,  3.00985904e+00,  5.45450275e+00,\n",
       "         7.80093594e+00,  1.00179639e+01,  1.20595602e+01,  1.38732623e+01,\n",
       "         1.54564938e+01,  1.67497894e+01,  1.77435802e+01,  1.84439878e+01,\n",
       "         1.87990820e+01,  1.88271003e+01,  1.85472755e+01,  1.79378850e+01,\n",
       "         1.70105456e+01,  1.58085777e+01,  1.43501808e+01,  1.26222364e+01,\n",
       "         1.06905445e+01,  8.58498641e+00,  6.33562529e+00,  3.96179025e+00,\n",
       "         1.51802643e+00, -9.61699044e-01, -3.44349301e+00, -5.88951759e+00,\n",
       "        -8.26006582e+00, -1.05270865e+01, -1.26610269e+01, -1.46343020e+01,\n",
       "        -1.64206033e+01, -1.79708499e+01, -1.92894561e+01, -2.03605967e+01,\n",
       "        -2.11716587e+01, -2.17133504e+01, -2.19797677e+01, -2.19626531e+01,\n",
       "        -2.16476737e+01, -2.10622561e+01, -2.02145809e+01, -1.91158467e+01,\n",
       "        -1.77800930e+01, -1.62239930e+01, -1.44666197e+01, -1.25291882e+01,\n",
       "        -1.04347777e+01, -8.20773276e+00, -5.86978851e+00, -3.45563299e+00,\n",
       "        -9.92556869e-01,  1.49191203e+00,  3.97031733e+00,  6.41557503e+00,\n",
       "         8.80126359e+00,  1.11019001e+01,  1.32931995e+01,  1.53523150e+01,\n",
       "         1.72580567e+01,  1.89910866e+01,  2.05340895e+01,  2.18719167e+01,\n",
       "         2.29917039e+01,  2.38829603e+01,  2.45376309e+01,  2.49501314e+01,\n",
       "         2.51173551e+01,  2.50386548e+01,  2.47157984e+01,  2.41529019e+01,\n",
       "         2.33563391e+01,  2.23346314e+01,  2.10983193e+01,  1.96598169e+01,\n",
       "         1.80332532e+01,  1.62343003e+01,  1.42799934e+01,  1.21885425e+01,\n",
       "         9.97914013e+00,  7.67176574e+00,  5.28699023e+00,  2.84441658e+00,\n",
       "         3.68190102e-01, -2.11846865e+00, -4.59426061e+00, -7.03829202e+00,\n",
       "        -9.43024209e+00, -1.17505186e+01, -1.39803999e+01, -1.61021634e+01,\n",
       "        -1.80991985e+01, -1.99561058e+01, -2.16587804e+01, -2.31850397e+01,\n",
       "        -2.45166960e+01, -2.56568097e+01, -2.65976904e+01, -2.73332424e+01,\n",
       "        -2.78589555e+01, -2.81718833e+01, -2.82706110e+01, -2.81552119e+01,\n",
       "        -2.78066635e+01, -2.72341677e+01, -2.64578863e+01, -2.54844118e+01,\n",
       "        -2.43214986e+01, -2.29779690e+01, -2.14636172e+01, -1.97837046e+01,\n",
       "        -1.79341987e+01, -1.59545785e+01, -1.38585628e+01, -1.16602783e+01,\n",
       "        -9.37416511e+00, -7.01488958e+00, -4.59184632e+00, -2.12995331e+00,\n",
       "         3.50691071e-01,  2.83498918e+00,  5.30813450e+00,  7.75565814e+00,\n",
       "         1.01522531e+01,  1.24813227e+01,  1.47337756e+01,  1.68973642e+01,\n",
       "         1.89604991e+01,  2.09071945e+01,  2.26943693e+01,  2.43420179e+01,\n",
       "         2.58422998e+01,  2.71881423e+01,  2.83731992e+01,  2.93376609e+01,\n",
       "         3.01222558e+01,  3.07280750e+01,  3.11531219e+01,  3.13960177e+01]),\n",
       " array([ 0.00000000e+00,  1.74026724e+00,  9.81816584e-01, -1.34251287e+00,\n",
       "        -3.53191891e+00, -4.70449474e+00, -4.59573427e+00, -3.33831870e+00,\n",
       "        -1.28956083e+00,  1.14234685e+00,  3.55645601e+00,  5.62188218e+00,\n",
       "         7.09389488e+00,  7.82951803e+00,  7.78700678e+00,  6.99685666e+00,\n",
       "         5.55535240e+00,  3.60417006e+00,  1.30506373e+00, -1.15819722e+00,\n",
       "        -3.61328132e+00, -5.89130465e+00, -7.87065053e+00, -9.41689057e+00,\n",
       "        -1.04714836e+01, -1.09903787e+01, -1.09354306e+01, -1.03330912e+01,\n",
       "        -9.22690166e+00, -7.67489830e+00, -5.75257980e+00, -3.54832201e+00,\n",
       "        -1.15854355e+00,  1.31709956e+00,  3.78023622e+00,  6.13780326e+00,\n",
       "         8.30540149e+00,  1.02098724e+01,  1.17910419e+01,  1.29972950e+01,\n",
       "         1.37774249e+01,  1.41319792e+01,  1.40585758e+01,  1.35636816e+01,\n",
       "         1.26345244e+01,  1.13409083e+01,  9.72216360e+00,  7.79464305e+00,\n",
       "         5.64544223e+00,  3.32503222e+00,  8.88107041e-01, -1.59329248e+00,\n",
       "        -4.05992507e+00, -6.45313746e+00, -8.71327144e+00, -1.07900854e+01,\n",
       "        -1.26380653e+01, -1.42147006e+01, -1.54892299e+01, -1.64390858e+01,\n",
       "        -1.70351433e+01, -1.72938948e+01, -1.71685631e+01, -1.67219979e+01,\n",
       "        -1.59044166e+01, -1.47824153e+01, -1.33665280e+01, -1.16678134e+01,\n",
       "        -9.75246391e+00, -7.63091465e+00, -5.35345831e+00, -2.96905840e+00,\n",
       "        -5.09631905e-01,  1.97507060e+00,  4.44430515e+00,  6.85344809e+00,\n",
       "         9.15903461e+00,  1.13337844e+01,  1.33467125e+01,  1.51336120e+01,\n",
       "         1.66966787e+01,  1.80162922e+01,  1.90746708e+01,  1.98127969e+01,\n",
       "         2.02634499e+01,  2.04221761e+01,  2.02877631e+01,  1.98449702e+01,\n",
       "         1.90974465e+01,  1.80799531e+01,  1.68069397e+01,  1.52959771e+01,\n",
       "         1.35665801e+01,  1.16227312e+01,  9.51601869e+00,  7.27388893e+00,\n",
       "         4.92519240e+00,  2.49981337e+00,  2.82932820e-02, -2.45817963e+00,\n",
       "        -4.92460367e+00, -7.34030894e+00, -9.67635928e+00, -1.19050601e+01,\n",
       "        -1.40002645e+01, -1.59376556e+01, -1.76950019e+01, -1.92523833e+01,\n",
       "        -2.05923861e+01, -2.16995543e+01, -2.25478860e+01, -2.31432552e+01,\n",
       "        -2.34800725e+01, -2.35556687e+01, -2.33702741e+01, -2.29269662e+01,\n",
       "        -2.22315865e+01, -2.12926288e+01, -2.01211000e+01, -1.87303570e+01,\n",
       "        -1.71359212e+01, -1.53552740e+01, -1.34076356e+01, -1.13137308e+01,\n",
       "        -9.09554383e+00, -6.77606668e+00, -4.37904252e+00, -1.92870828e+00,\n",
       "         5.50461201e-01,  3.03400451e+00,  5.49771780e+00,  7.91788934e+00,\n",
       "         1.02715222e+01,  1.25365431e+01,  1.46919953e+01,  1.67182148e+01,\n",
       "         1.85969872e+01,  2.03116866e+01,  2.18473923e+01,  2.31909872e+01,\n",
       "         2.43312337e+01,  2.52588296e+01,  2.59664444e+01,  2.64391214e+01,\n",
       "         2.66748505e+01,  2.66796333e+01,  2.64545680e+01,  2.60026765e+01,\n",
       "         2.53288265e+01,  2.44396400e+01,  2.33433894e+01,  2.20498837e+01,\n",
       "         2.05703459e+01,  1.89172843e+01,  1.71043584e+01,  1.51396391e+01,\n",
       "         1.30387952e+01,  1.08294252e+01,  8.52903617e+00,  6.15551380e+00,\n",
       "         3.72697869e+00,  1.26164946e+00, -1.22228693e+00, -3.70679651e+00,\n",
       "        -6.17014862e+00, -8.59028675e+00, -1.09516293e+01, -1.32379536e+01,\n",
       "        -1.54338179e+01, -1.75246263e+01, -1.94966815e+01, -2.13317519e+01,\n",
       "        -2.29952001e+01, -2.44987532e+01, -2.58335652e+01, -2.69919481e+01,\n",
       "        -2.79673583e+01, -2.87543764e+01, -2.93186910e+01, -2.96679958e+01,\n",
       "        -2.98181354e+01, -2.97693731e+01, -2.95229769e+01, -2.90811595e+01,\n",
       "        -2.84133854e+01, -2.75430665e+01, -2.64934034e+01, -2.52713717e+01,\n",
       "        -2.38845608e+01, -2.23353782e+01, -2.06051319e+01, -1.87442619e+01,\n",
       "        -1.67635423e+01, -1.46739620e+01, -1.24866789e+01, -1.01933401e+01,\n",
       "        -7.83474328e+00, -5.42495146e+00, -2.97607515e+00, -5.00072086e-01]))"
      ]
     },
     "execution_count": 109,
     "metadata": {},
     "output_type": "execute_result"
    }
   ],
   "source": [
    "# 98、考虑由两个向量 (X, Y) 描述的路径，如何使用等间距的样本对其进行采样？\n",
    "\n",
    "# 这句话的意思是，给定两个向量 X 和 Y，它们表示一条路径的坐标，你需要从这条路径上均匀地取若干个样本点。这些样本点之间的距离是相等的，即等间距采样。目标是创建一个新的数组，包含这些等距的样本点。\n",
    "\n",
    "\n",
    "phi = np.arange(0, 10*np.pi, 0.1)\n",
    "a = 1\n",
    "x = a*phi*np.cos(phi)\n",
    "y = a*phi*np.sin(phi)\n",
    "\n",
    "dr = (np.diff(x)**2 + np.diff(y)**2)**.5  # 计算每段的长度\n",
    "r = np.zeros_like(x)\n",
    "r[1:] = np.cumsum(dr)  # 计算路径的累积长度\n",
    "r_int = np.linspace(0, r.max(), 200)  # 创建 200 个均匀分布的路径长度点\n",
    "x_int = np.interp(r_int, r, x)  # 根据等间距长度点插值出 x 坐标\n",
    "y_int = np.interp(r_int, r, y)  # 根据等间距长度点插值出 y 坐标\n",
    "\n",
    "\n",
    "(x_int, y_int)"
   ]
  },
  {
   "cell_type": "code",
   "execution_count": 111,
   "metadata": {},
   "outputs": [
    {
     "name": "stdout",
     "output_type": "stream",
     "text": [
      "[[2. 0. 1. 1.]]\n"
     ]
    }
   ],
   "source": [
    "# 99、给定一个整数 n 和一个二维数组 X，从 X 中选择可以被解释为具有 n 次试验的多项式分布的行，即仅包含整数且和为 n 的行。\n",
    "\n",
    "# 这个意思是，你有一个二维数组 X，你需要从中找出满足以下条件的行：\n",
    "\n",
    "# 1. 行中的所有元素都是整数。\n",
    "# 2. 行中所有元素的总和等于给定的整数 n。\n",
    "\n",
    "# 这样的行可以被视为从一个多项式分布中抽取的样本，具有 n 次试验的特性。目标是提取出这些符合条件的行。\n",
    "\n",
    "\n",
    "# 创建一个二维数组 X\n",
    "X = np.asarray([[1.0, 0.0, 3.0, 8.0],   # 和为 12，不符合条件\n",
    "                [2.0, 0.0, 1.0, 1.0],  # 和为 4，符合条件\n",
    "                [1.5, 2.5, 1.0, 0.0]])  # 包含小数，不符合条件\n",
    "\n",
    "# 给定整数 n\n",
    "n = 4\n",
    "\n",
    "# 检查每一行是否全为整数\n",
    "M = np.logical_and.reduce(np.mod(X, 1) == 0, axis=-1)\n",
    "\n",
    "# 检查每一行的和是否等于 n，并更新布尔数组 M\n",
    "M &= (X.sum(axis=-1) == n)\n",
    "\n",
    "# 根据布尔数组 M 提取符合条件的行\n",
    "print(X[M])"
   ]
  },
  {
   "cell_type": "code",
   "execution_count": 113,
   "metadata": {},
   "outputs": [
    {
     "name": "stdout",
     "output_type": "stream",
     "text": [
      "[-0.14231255  0.23991212]\n"
     ]
    }
   ],
   "source": [
    "# 100、计算一维数组 X 的自助法 95% 置信区间（即，从数组中有放回地重采样 N 次，计算每个样本的均值，然后对均值计算百分位数）。\n",
    "\n",
    "# 这句话的意思是，你需要通过自助法（bootstrapping）来估计一维数组 X 的均值的置信区间。具体步骤如下：\n",
    "\n",
    "# 1. **重采样**：从数组 X 中随机选择元素，允许重复选择（即有放回地采样），进行 N 次重采样。\n",
    "# 2. **计算均值**：对每次重采样得到的样本，计算其均值。\n",
    "# 3. **计算置信区间**：收集所有样本均值后，计算这些均值的 2.5 和 97.5 百分位数，从而得到 95% 置信区间。\n",
    "\n",
    "# 这个过程帮助你了解在给定数据的情况下，均值的估计有多不确定。\n",
    "\n",
    "\n",
    "X = np.random.randn(100) # random 1D array\n",
    "N = 1000 # number of bootstrap samples\n",
    "idx = np.random.randint(0, X.size, (N, X.size))\n",
    "means = X[idx].mean(axis=1)\n",
    "confint = np.percentile(means, [2.5, 97.5])\n",
    "print(confint)"
   ]
  },
  {
   "cell_type": "markdown",
   "metadata": {},
   "source": [
    "`-0.294` 到 `0.075` 的含义是，你对数组 `X` 的均值进行估计时，认为真实均值有 95% 的可能性落在这个范围内。具体来说：\n",
    "\n",
    "- **下限** `-0.294`：这是 95% 置信区间的下限，表示均值的估计值不会低于这个值。\n",
    "- **上限** `0.075`：这是 95% 置信区间的上限，表示均值的估计值不会高于这个值。\n",
    "\n",
    "换句话说，如果你多次重复这个自助法过程，95% 的情况下，计算得到的均值都会在这个区间内。这提供了对均值不确定性的一个量化评估。"
   ]
  }
 ],
 "metadata": {
  "kernelspec": {
   "display_name": "1NLP-1CODE",
   "language": "python",
   "name": "python3"
  },
  "language_info": {
   "codemirror_mode": {
    "name": "ipython",
    "version": 3
   },
   "file_extension": ".py",
   "mimetype": "text/x-python",
   "name": "python",
   "nbconvert_exporter": "python",
   "pygments_lexer": "ipython3",
   "version": "3.10.15"
  }
 },
 "nbformat": 4,
 "nbformat_minor": 2
}
