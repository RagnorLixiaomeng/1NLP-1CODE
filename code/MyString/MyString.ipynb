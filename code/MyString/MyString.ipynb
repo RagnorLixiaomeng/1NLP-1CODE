{
 "cells": [
  {
   "cell_type": "markdown",
   "metadata": {},
   "source": [
    "#### 一、字符串的本质是什么？\n",
    "\n",
    "字符串本质就是存储char的数组"
   ]
  },
  {
   "cell_type": "markdown",
   "metadata": {},
   "source": [
    "#### 二、反转字符串图解\n",
    "\n",
    "> 本质就是双指针法\n",
    "\n",
    "![](../attachments/反转字符串.gif)"
   ]
  },
  {
   "cell_type": "markdown",
   "metadata": {},
   "source": []
  }
 ],
 "metadata": {
  "language_info": {
   "name": "python"
  }
 },
 "nbformat": 4,
 "nbformat_minor": 2
}
