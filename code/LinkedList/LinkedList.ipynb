{
 "cells": [
  {
   "cell_type": "markdown",
   "metadata": {},
   "source": [
    "##### 一、什么是链表？\n",
    "\n",
    "- 链表是一种通过指针串联在一起的线性结构，每一个节点由两部分组成，一个是数据域一个是指针域（存放指向下一个节点的指针），最后一个节点的指针域指向null（空指针）"
   ]
  },
  {
   "cell_type": "markdown",
   "metadata": {},
   "source": [
    "##### 二、链表的类型结构\n",
    "\n",
    "###### 2.1 单链表\n",
    "\n",
    "> 1个数据域1个指针域\n",
    "![](../attachments/单链表.png)\n",
    "\n",
    "###### 2.2 双链表\n",
    "\n",
    "> 1个数据域2个指针域\n",
    "![](../attachments/双链表.png)\n",
    "\n",
    "###### 2.3 循环链表\n",
    "\n",
    "> 链表首尾相连\n",
    "![](../attachments/循环链表.png)\n"
   ]
  },
  {
   "cell_type": "markdown",
   "metadata": {},
   "source": [
    "##### 三、链表的操作\n",
    "\n",
    "###### 3.1、添加节点\n",
    "![](../attachments/链表添加节点.png)\n",
    "\n",
    "###### 3.2、删除节点\n",
    "![](../attachments/链表删除节点.png)"
   ]
  },
  {
   "cell_type": "markdown",
   "metadata": {},
   "source": [
    "##### 四、链表的存储方式\n",
    "\n",
    "- 散乱分布在内存中的某地址上，分配机制取决于操作系统的内存管理！\n",
    "![](../attachments/链表的存储方式.png)"
   ]
  },
  {
   "cell_type": "markdown",
   "metadata": {},
   "source": [
    "##### 五、链表的BIGO复杂度lianb\n",
    "\n",
    "![](../attachments/链表vs数组BIGO.png)\n",
    "- 数组在定义的时候，长度就是固定的，如果想改动数组的长度，就需要重新定义一个新的数组。\n",
    "- 链表的长度可以是不固定的，并且可以动态增删， 适合数据量不固定，频繁增删，较少查询的场景。"
   ]
  }
 ],
 "metadata": {
  "language_info": {
   "name": "python"
  }
 },
 "nbformat": 4,
 "nbformat_minor": 2
}
