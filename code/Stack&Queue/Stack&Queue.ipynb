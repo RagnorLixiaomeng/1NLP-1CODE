{
 "cells": [
  {
   "cell_type": "markdown",
   "metadata": {},
   "source": [
    "#### 一、栈与队列\n",
    "\n",
    "![](../attachments/栈与队列.png)\n",
    "\n",
    "- 队列：先进先出\n",
    "- 栈：先进后出"
   ]
  },
  {
   "cell_type": "markdown",
   "metadata": {},
   "source": [
    "#### 二、Stack有效括号\n",
    "\n",
    "![](../attachments/有效括号.gif)\n",
    "\n",
    "第一种情况：已经遍历完了字符串，但是栈不为空，说明有相应的左括号没有右括号来匹配，所以return false\n",
    "\n",
    "第二种情况：遍历字符串匹配的过程中，发现栈里没有要匹配的字符。所以return false\n",
    "\n",
    "第三种情况：遍历字符串匹配的过程中，栈已经为空了，没有匹配的字符了，说明右括号没有找到对应的左括号return false\n",
    "\n",
    "那么什么时候说明左括号和右括号全都匹配了呢，就是字符串遍历完之后，栈是空的，就说明全都匹配了。"
   ]
  },
  {
   "cell_type": "markdown",
   "metadata": {},
   "source": [
    "#### 三、滑动窗口最大值 - 单调队列\n",
    "\n",
    "![](../attachments/滑动窗口最大值.gif)\n"
   ]
  }
 ],
 "metadata": {
  "language_info": {
   "name": "python"
  }
 },
 "nbformat": 4,
 "nbformat_minor": 2
}
