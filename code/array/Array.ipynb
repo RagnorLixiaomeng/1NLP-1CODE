{
 "cells": [
  {
   "cell_type": "code",
   "execution_count": 6,
   "metadata": {},
   "outputs": [],
   "source": [
    "# 导入绘图库\n",
    "\n",
    "from manim import *\n",
    "\n",
    "# %%manim -qm -v WARNING ClassName"
   ]
  },
  {
   "cell_type": "code",
   "execution_count": null,
   "metadata": {},
   "outputs": [],
   "source": [
    "%%manim -qm -v WARNING SimpleLatexExample\n",
    "\n",
    "class SimpleLatexExample(Scene):\n",
    "    def construct(self):\n",
    "        equation = MathTex(r\"E = mc^2\")\n",
    "        self.play(Write(equation))\n",
    "        self.wait(2)"
   ]
  }
 ],
 "metadata": {
  "kernelspec": {
   "display_name": "1NLP-1CODE",
   "language": "python",
   "name": "python3"
  },
  "language_info": {
   "codemirror_mode": {
    "name": "ipython",
    "version": 3
   },
   "file_extension": ".py",
   "mimetype": "text/x-python",
   "name": "python",
   "nbconvert_exporter": "python",
   "pygments_lexer": "ipython3",
   "version": "3.10.15"
  }
 },
 "nbformat": 4,
 "nbformat_minor": 2
}
